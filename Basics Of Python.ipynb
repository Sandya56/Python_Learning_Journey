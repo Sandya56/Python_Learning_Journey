{
 "cells": [
  {
   "cell_type": "code",
   "execution_count": 1,
   "id": "416377ad-c54a-4385-bb3b-b0e9dd80df81",
   "metadata": {},
   "outputs": [
    {
     "name": "stdout",
     "output_type": "stream",
     "text": [
      "Hello\n",
      "sandy\n",
      "123\n"
     ]
    }
   ],
   "source": [
    "print(\"Hello\")\n",
    "print('sandy')\n",
    "print(123)"
   ]
  },
  {
   "cell_type": "code",
   "execution_count": 15,
   "id": "4c9b60bb-3f44-45ba-865b-1660fde048e0",
   "metadata": {
    "scrolled": true
   },
   "outputs": [
    {
     "name": "stdout",
     "output_type": "stream",
     "text": [
      "0\n",
      "1\n",
      "2\n",
      "3\n",
      "4\n",
      "5\n",
      "6\n",
      "7\n",
      "8\n",
      "9\n"
     ]
    }
   ],
   "source": [
    "for i in range(10):\n",
    "    print(i)"
   ]
  },
  {
   "cell_type": "code",
   "execution_count": 17,
   "id": "475f31e8-1438-4598-8985-771669671ce8",
   "metadata": {},
   "outputs": [
    {
     "name": "stdout",
     "output_type": "stream",
     "text": [
      "Sandya\n"
     ]
    }
   ],
   "source": [
    "name = 'Sandya'\n",
    "print(name)"
   ]
  },
  {
   "cell_type": "code",
   "execution_count": 25,
   "id": "cfadf2d8-95f4-4339-9b49-a09bdecfc7aa",
   "metadata": {},
   "outputs": [],
   "source": [
    "var1 = 123\n",
    "var1 = 223"
   ]
  },
  {
   "cell_type": "code",
   "execution_count": 27,
   "id": "00f28480-abe0-4334-888e-1df1b766e976",
   "metadata": {},
   "outputs": [
    {
     "data": {
      "text/plain": [
       "223"
      ]
     },
     "execution_count": 27,
     "metadata": {},
     "output_type": "execute_result"
    }
   ],
   "source": [
    "var1"
   ]
  },
  {
   "cell_type": "code",
   "execution_count": 57,
   "id": "81bde956-829a-4cf8-87c0-5f9ba01bef12",
   "metadata": {},
   "outputs": [
    {
     "data": {
      "text/plain": [
       "1"
      ]
     },
     "execution_count": 57,
     "metadata": {},
     "output_type": "execute_result"
    }
   ],
   "source": [
    "var = 1\n",
    "var"
   ]
  },
  {
   "cell_type": "code",
   "execution_count": 59,
   "id": "02f66924-be50-4a4f-87ff-a1370c738e94",
   "metadata": {},
   "outputs": [
    {
     "data": {
      "text/plain": [
       "2"
      ]
     },
     "execution_count": 59,
     "metadata": {},
     "output_type": "execute_result"
    }
   ],
   "source": [
    "Var = 2\n",
    "Var"
   ]
  },
  {
   "cell_type": "code",
   "execution_count": 37,
   "id": "05a804dd-e950-4654-bab1-9cdc1a53b6e6",
   "metadata": {},
   "outputs": [
    {
     "ename": "SyntaxError",
     "evalue": "invalid decimal literal (586531444.py, line 1)",
     "output_type": "error",
     "traceback": [
      "\u001b[1;36m  Cell \u001b[1;32mIn[37], line 1\u001b[1;36m\u001b[0m\n\u001b[1;33m    2var ='sandy'\u001b[0m\n\u001b[1;37m    ^\u001b[0m\n\u001b[1;31mSyntaxError\u001b[0m\u001b[1;31m:\u001b[0m invalid decimal literal\n"
     ]
    }
   ],
   "source": [
    "2var ='sandy'\n",
    "2var"
   ]
  },
  {
   "cell_type": "code",
   "execution_count": 45,
   "id": "e000a7bf-b90a-44c8-9be8-314f93853272",
   "metadata": {},
   "outputs": [
    {
     "data": {
      "text/plain": [
       "1"
      ]
     },
     "execution_count": 45,
     "metadata": {},
     "output_type": "execute_result"
    }
   ],
   "source": [
    "_var_string_=1\n",
    "_var_string_"
   ]
  },
  {
   "cell_type": "code",
   "execution_count": 63,
   "id": "2f11eee4-5389-4a6d-9826-27cec997ddf2",
   "metadata": {},
   "outputs": [
    {
     "data": {
      "text/plain": [
       "'name'"
      ]
     },
     "execution_count": 63,
     "metadata": {},
     "output_type": "execute_result"
    }
   ],
   "source": [
    "sandy = 'name'\n",
    "sandy"
   ]
  },
  {
   "cell_type": "code",
   "execution_count": 67,
   "id": "9f52ec8f-bfcf-4d49-84c1-4419b95288f2",
   "metadata": {},
   "outputs": [
    {
     "data": {
      "text/plain": [
       "'love her'"
      ]
     },
     "execution_count": 67,
     "metadata": {},
     "output_type": "execute_result"
    }
   ],
   "source": [
    "sandy = 'love her'\n",
    "sandy"
   ]
  },
  {
   "cell_type": "code",
   "execution_count": 69,
   "id": "752de60b-c023-410b-9fc4-9be7a615b550",
   "metadata": {},
   "outputs": [
    {
     "data": {
      "text/plain": [
       "'love her'"
      ]
     },
     "execution_count": 69,
     "metadata": {},
     "output_type": "execute_result"
    }
   ],
   "source": [
    "sandy"
   ]
  },
  {
   "cell_type": "code",
   "execution_count": null,
   "id": "2b4cf959-62cf-4a42-817d-8ff063bf83af",
   "metadata": {},
   "outputs": [],
   "source": [
    "# text type \n",
    "' ',\" \",\"\"\" \"\"\",''' '''"
   ]
  },
  {
   "cell_type": "code",
   "execution_count": 75,
   "id": "16f94db4-9238-4951-b978-37523674a661",
   "metadata": {},
   "outputs": [
    {
     "name": "stdout",
     "output_type": "stream",
     "text": [
      "sandy sandy\n"
     ]
    }
   ],
   "source": [
    "var1='sandy'\n",
    "var2=\"sandy\"\n",
    "print(var1,var2)"
   ]
  },
  {
   "cell_type": "code",
   "execution_count": 77,
   "id": "71aaf9a8-61bd-4af3-b3a0-83ecf4e05113",
   "metadata": {},
   "outputs": [
    {
     "name": "stdout",
     "output_type": "stream",
     "text": [
      "hello everyone\n"
     ]
    }
   ],
   "source": [
    "str = \"hello everyone\"\n",
    "print(str)"
   ]
  },
  {
   "cell_type": "code",
   "execution_count": 93,
   "id": "89037d11-9437-4feb-8427-853cb0fcf870",
   "metadata": {},
   "outputs": [
    {
     "name": "stdout",
     "output_type": "stream",
     "text": [
      "hello Im sandya\n",
      "learning python\n",
      "I will successed in my career so Im grateful for everything\n",
      "thank you for choosing the career\n"
     ]
    }
   ],
   "source": [
    "str1 = '''hello Im sandya\n",
    "learning python\n",
    "I will successed in my career so Im grateful for everything\n",
    "thank you for choosing the career'''\n",
    "print(str1)"
   ]
  },
  {
   "cell_type": "code",
   "execution_count": 91,
   "id": "a78c2fa9-550e-447e-8243-cfdd2d1d8bb1",
   "metadata": {},
   "outputs": [
    {
     "name": "stdout",
     "output_type": "stream",
     "text": [
      "Each day is new beginning. I should not think about the past. \n",
      "everybody thinks that im not successed in career. Im going to acive my goals,\n",
      "one my first name enough to recognise my name.\n",
      "\n"
     ]
    }
   ],
   "source": [
    "str2 = \"\"\"Each day is new beginning. I should not think about the past. \n",
    "everybody thinks that im not successed in career. Im going to acive my goals,\n",
    "one my first name enough to recognise my name.\n",
    "\"\"\"\n",
    "print(str2)"
   ]
  },
  {
   "cell_type": "code",
   "execution_count": 95,
   "id": "e37a578b-1027-4fae-9b49-3757abee0959",
   "metadata": {},
   "outputs": [
    {
     "name": "stdout",
     "output_type": "stream",
     "text": [
      "sandy \"loves momos\"\n"
     ]
    }
   ],
   "source": [
    "str3 = 'sandy \"loves momos\"'\n",
    "print(str3)"
   ]
  },
  {
   "cell_type": "code",
   "execution_count": 97,
   "id": "9244ed66-7483-47b9-a765-2e75a6c3e3ef",
   "metadata": {},
   "outputs": [
    {
     "data": {
      "text/plain": [
       "str"
      ]
     },
     "execution_count": 97,
     "metadata": {},
     "output_type": "execute_result"
    }
   ],
   "source": [
    "type(str3)"
   ]
  },
  {
   "cell_type": "code",
   "execution_count": 99,
   "id": "e3da8dd9-d2f3-4f9f-8b66-7aa5636fb154",
   "metadata": {},
   "outputs": [
    {
     "data": {
      "text/plain": [
       "456"
      ]
     },
     "execution_count": 99,
     "metadata": {},
     "output_type": "execute_result"
    }
   ],
   "source": [
    "#Numeric type\n",
    "#int +,-,0\n",
    "int1 = 456\n",
    "int1"
   ]
  },
  {
   "cell_type": "code",
   "execution_count": 101,
   "id": "b416751d-3c3e-4efb-9bc1-a08e85ade80f",
   "metadata": {},
   "outputs": [
    {
     "data": {
      "text/plain": [
       "-234"
      ]
     },
     "execution_count": 101,
     "metadata": {},
     "output_type": "execute_result"
    }
   ],
   "source": [
    "int2 = -234\n",
    "int2"
   ]
  },
  {
   "cell_type": "code",
   "execution_count": 103,
   "id": "94b31b61-b1dc-4851-af94-6137aefca704",
   "metadata": {},
   "outputs": [
    {
     "data": {
      "text/plain": [
       "0"
      ]
     },
     "execution_count": 103,
     "metadata": {},
     "output_type": "execute_result"
    }
   ],
   "source": [
    "int3 = 0\n",
    "int3"
   ]
  },
  {
   "cell_type": "code",
   "execution_count": 113,
   "id": "8326d62a-8d98-44df-b3a9-97d311bc238f",
   "metadata": {},
   "outputs": [
    {
     "data": {
      "text/plain": [
       "int"
      ]
     },
     "execution_count": 113,
     "metadata": {},
     "output_type": "execute_result"
    }
   ],
   "source": [
    "type(int1)"
   ]
  },
  {
   "cell_type": "code",
   "execution_count": 115,
   "id": "60867796-2219-46c9-b468-2e05cdc6829d",
   "metadata": {},
   "outputs": [
    {
     "data": {
      "text/plain": [
       "12.06"
      ]
     },
     "execution_count": 115,
     "metadata": {},
     "output_type": "execute_result"
    }
   ],
   "source": [
    "#float\n",
    "fl = 12.06\n",
    "fl"
   ]
  },
  {
   "cell_type": "code",
   "execution_count": 117,
   "id": "f02ff734-5337-496c-8ffb-0fb5647da23e",
   "metadata": {},
   "outputs": [
    {
     "data": {
      "text/plain": [
       "float"
      ]
     },
     "execution_count": 117,
     "metadata": {},
     "output_type": "execute_result"
    }
   ],
   "source": [
    "type(fl)"
   ]
  },
  {
   "cell_type": "code",
   "execution_count": 121,
   "id": "1667aee7-1963-4f0d-9473-a1109a08257b",
   "metadata": {},
   "outputs": [],
   "source": [
    "a,b,c,d = 10,23.675,-23,0.98"
   ]
  },
  {
   "cell_type": "code",
   "execution_count": 127,
   "id": "47980a22-afed-487c-bf85-7487afe0b939",
   "metadata": {},
   "outputs": [
    {
     "data": {
      "text/plain": [
       "float"
      ]
     },
     "execution_count": 127,
     "metadata": {},
     "output_type": "execute_result"
    }
   ],
   "source": [
    "type(d)"
   ]
  },
  {
   "cell_type": "code",
   "execution_count": 129,
   "id": "51e35eb0-ce58-4968-bba4-8ebf856c1785",
   "metadata": {},
   "outputs": [
    {
     "data": {
      "text/plain": [
       "int"
      ]
     },
     "execution_count": 129,
     "metadata": {},
     "output_type": "execute_result"
    }
   ],
   "source": [
    "type(c)"
   ]
  },
  {
   "cell_type": "code",
   "execution_count": 131,
   "id": "25047d43-b0eb-4c8d-a997-a84c217aceb8",
   "metadata": {},
   "outputs": [
    {
     "data": {
      "text/plain": [
       "float"
      ]
     },
     "execution_count": 131,
     "metadata": {},
     "output_type": "execute_result"
    }
   ],
   "source": [
    "type(b)"
   ]
  },
  {
   "cell_type": "code",
   "execution_count": 133,
   "id": "a7b5896f-63bc-40c9-a86b-599af4024b30",
   "metadata": {},
   "outputs": [
    {
     "data": {
      "text/plain": [
       "int"
      ]
     },
     "execution_count": 133,
     "metadata": {},
     "output_type": "execute_result"
    }
   ],
   "source": [
    "type(a)"
   ]
  },
  {
   "cell_type": "code",
   "execution_count": 135,
   "id": "17aa1934-0122-4b05-8c4d-31ab67afd386",
   "metadata": {},
   "outputs": [
    {
     "name": "stdout",
     "output_type": "stream",
     "text": [
      "(12+1j)\n"
     ]
    }
   ],
   "source": [
    "#Complex=real+imaginary number\n",
    "com = 12+1j\n",
    "print(com)"
   ]
  },
  {
   "cell_type": "code",
   "execution_count": 137,
   "id": "7df4d932-b89e-45f8-91a9-4018b263fb8d",
   "metadata": {},
   "outputs": [
    {
     "data": {
      "text/plain": [
       "complex"
      ]
     },
     "execution_count": 137,
     "metadata": {},
     "output_type": "execute_result"
    }
   ],
   "source": [
    "type(com)"
   ]
  },
  {
   "cell_type": "code",
   "execution_count": 139,
   "id": "7666b5a6-4150-463e-adca-0c33acbf73e3",
   "metadata": {},
   "outputs": [
    {
     "data": {
      "text/plain": [
       "(56+12j)"
      ]
     },
     "execution_count": 139,
     "metadata": {},
     "output_type": "execute_result"
    }
   ],
   "source": [
    "com2 = 12j+56\n",
    "com2"
   ]
  },
  {
   "cell_type": "code",
   "execution_count": 141,
   "id": "19448f2b-05c0-4778-ba25-18ff01b38e2a",
   "metadata": {},
   "outputs": [
    {
     "name": "stdout",
     "output_type": "stream",
     "text": [
      "(56+12j)\n"
     ]
    }
   ],
   "source": [
    "print(com2)"
   ]
  },
  {
   "cell_type": "code",
   "execution_count": null,
   "id": "334b6843-c3fa-4f88-bad1-d9838d65f427",
   "metadata": {},
   "outputs": [],
   "source": [
    "# Operators\n",
    "# 1.arithematic operators\n"
   ]
  },
  {
   "cell_type": "code",
   "execution_count": 183,
   "id": "a4c4ad3f-b502-4c7d-bdce-f6fe96b98525",
   "metadata": {},
   "outputs": [
    {
     "name": "stdout",
     "output_type": "stream",
     "text": [
      "40\n",
      "0.3333333333333333\n",
      "-15\n",
      "0\n",
      "30517578125\n",
      "5\n"
     ]
    }
   ],
   "source": [
    "x,y,z = 5,15,20\n",
    "sum = x+y+z\n",
    "divide = x/y\n",
    "sub = x-z\n",
    "subb = x//y\n",
    "power = x**y\n",
    "mod = x%y\n",
    "print(sum)\n",
    "print(divide)\n",
    "print(sub)\n",
    "print(subb)\n",
    "print(power)\n",
    "print(mod)"
   ]
  },
  {
   "cell_type": "code",
   "execution_count": null,
   "id": "13a12fc5-927e-46fb-a729-285b621e45af",
   "metadata": {},
   "outputs": [],
   "source": [
    "# 2.assignment operators"
   ]
  },
  {
   "cell_type": "code",
   "execution_count": 175,
   "id": "ce82bb28-a697-405c-bf09-01a5662185c7",
   "metadata": {},
   "outputs": [
    {
     "data": {
      "text/plain": [
       "7"
      ]
     },
     "execution_count": 175,
     "metadata": {},
     "output_type": "execute_result"
    }
   ],
   "source": [
    "x=x+2\n",
    "x"
   ]
  },
  {
   "cell_type": "code",
   "execution_count": 177,
   "id": "e0940943-d209-47c9-bb96-9495b5d6279d",
   "metadata": {},
   "outputs": [
    {
     "data": {
      "text/plain": [
       "13"
      ]
     },
     "execution_count": 177,
     "metadata": {},
     "output_type": "execute_result"
    }
   ],
   "source": [
    "y=y-2\n",
    "y"
   ]
  },
  {
   "cell_type": "code",
   "execution_count": 179,
   "id": "cd1a344e-e355-4af8-830c-6a723ffe4db4",
   "metadata": {},
   "outputs": [
    {
     "data": {
      "text/plain": [
       "4.0"
      ]
     },
     "execution_count": 179,
     "metadata": {},
     "output_type": "execute_result"
    }
   ],
   "source": [
    "z=z/5\n",
    "z"
   ]
  },
  {
   "cell_type": "code",
   "execution_count": 185,
   "id": "73eb9894-e234-4afe-bdc1-0df5a93f2341",
   "metadata": {},
   "outputs": [
    {
     "data": {
      "text/plain": [
       "8"
      ]
     },
     "execution_count": 185,
     "metadata": {},
     "output_type": "execute_result"
    }
   ],
   "source": [
    "x+=3\n",
    "x"
   ]
  },
  {
   "cell_type": "code",
   "execution_count": 187,
   "id": "70d0d594-68f3-42ae-a2ac-97171e6e3d2b",
   "metadata": {},
   "outputs": [
    {
     "data": {
      "text/plain": [
       "13"
      ]
     },
     "execution_count": 187,
     "metadata": {},
     "output_type": "execute_result"
    }
   ],
   "source": [
    "y-=2\n",
    "y"
   ]
  },
  {
   "cell_type": "code",
   "execution_count": null,
   "id": "bc1b1646-6f99-4e4d-99ee-4382e1efd1df",
   "metadata": {},
   "outputs": [],
   "source": [
    "# 3.comparision operators"
   ]
  },
  {
   "cell_type": "code",
   "execution_count": 189,
   "id": "8eff3114-1928-4a62-b1d6-96c9649f2b1b",
   "metadata": {},
   "outputs": [
    {
     "data": {
      "text/plain": [
       "(10, 23.675)"
      ]
     },
     "execution_count": 189,
     "metadata": {},
     "output_type": "execute_result"
    }
   ],
   "source": [
    "a,b"
   ]
  },
  {
   "cell_type": "code",
   "execution_count": 191,
   "id": "b32ca6fb-4c5f-41ac-8c35-67af348933b0",
   "metadata": {},
   "outputs": [
    {
     "name": "stdout",
     "output_type": "stream",
     "text": [
      "False\n"
     ]
    }
   ],
   "source": [
    "print(a==b)"
   ]
  },
  {
   "cell_type": "code",
   "execution_count": 193,
   "id": "4bb73fb2-a5b0-4218-912f-b92462b0dbf7",
   "metadata": {},
   "outputs": [
    {
     "name": "stdout",
     "output_type": "stream",
     "text": [
      "True\n"
     ]
    }
   ],
   "source": [
    "print(a!=b)"
   ]
  },
  {
   "cell_type": "code",
   "execution_count": 195,
   "id": "801b8f4b-1db3-451c-adfe-2ec1d6ecccdd",
   "metadata": {},
   "outputs": [
    {
     "name": "stdout",
     "output_type": "stream",
     "text": [
      "False\n"
     ]
    }
   ],
   "source": [
    "print(a>b)"
   ]
  },
  {
   "cell_type": "code",
   "execution_count": 199,
   "id": "150d4cbf-29b8-4ec9-83e7-6d3e1f69728a",
   "metadata": {},
   "outputs": [
    {
     "name": "stdout",
     "output_type": "stream",
     "text": [
      "True\n"
     ]
    }
   ],
   "source": [
    "print(a<b)"
   ]
  },
  {
   "cell_type": "code",
   "execution_count": 201,
   "id": "dde54c56-61aa-48d3-a3d0-23fbca12b582",
   "metadata": {},
   "outputs": [
    {
     "name": "stdout",
     "output_type": "stream",
     "text": [
      "False\n"
     ]
    }
   ],
   "source": [
    "print(a>=b)"
   ]
  },
  {
   "cell_type": "code",
   "execution_count": 203,
   "id": "93bc8583-2fd1-4096-8c26-9fa1f8abbe93",
   "metadata": {},
   "outputs": [
    {
     "name": "stdout",
     "output_type": "stream",
     "text": [
      "True\n"
     ]
    }
   ],
   "source": [
    "print(a<=b)"
   ]
  },
  {
   "cell_type": "code",
   "execution_count": 205,
   "id": "4df74c10-8ddf-4da9-9d15-e23a252444a4",
   "metadata": {},
   "outputs": [
    {
     "name": "stdout",
     "output_type": "stream",
     "text": [
      "True\n"
     ]
    }
   ],
   "source": [
    "x = 'Iam sandya, who love gardning'\n",
    "print('love' in x)"
   ]
  },
  {
   "cell_type": "code",
   "execution_count": 209,
   "id": "2c8ae0e4-a555-4355-ac0f-e6f1acfbaf07",
   "metadata": {},
   "outputs": [
    {
     "name": "stdout",
     "output_type": "stream",
     "text": [
      "True\n"
     ]
    }
   ],
   "source": [
    "print('great' not in x)"
   ]
  },
  {
   "cell_type": "code",
   "execution_count": 213,
   "id": "f46bcddf-8dc6-45a8-8fb9-90bc65212b8e",
   "metadata": {},
   "outputs": [],
   "source": [
    "a = 123\n",
    "b = 234\n",
    "c=123"
   ]
  },
  {
   "cell_type": "code",
   "execution_count": 217,
   "id": "4233da40-8755-405a-9546-aa8ad7c774a6",
   "metadata": {},
   "outputs": [
    {
     "data": {
      "text/plain": [
       "False"
      ]
     },
     "execution_count": 217,
     "metadata": {},
     "output_type": "execute_result"
    }
   ],
   "source": [
    "a is b"
   ]
  },
  {
   "cell_type": "code",
   "execution_count": 219,
   "id": "5fa47354-388d-4228-a1f7-c732d459fec5",
   "metadata": {},
   "outputs": [
    {
     "data": {
      "text/plain": [
       "False"
      ]
     },
     "execution_count": 219,
     "metadata": {},
     "output_type": "execute_result"
    }
   ],
   "source": [
    "b is a "
   ]
  },
  {
   "cell_type": "code",
   "execution_count": 221,
   "id": "42b2dbc1-1ea6-4633-8e26-384fef022127",
   "metadata": {},
   "outputs": [
    {
     "data": {
      "text/plain": [
       "True"
      ]
     },
     "execution_count": 221,
     "metadata": {},
     "output_type": "execute_result"
    }
   ],
   "source": [
    "b is b"
   ]
  },
  {
   "cell_type": "code",
   "execution_count": 223,
   "id": "ceaefedc-d2cd-4d8d-9935-39ef7af5e3c4",
   "metadata": {},
   "outputs": [
    {
     "data": {
      "text/plain": [
       "False"
      ]
     },
     "execution_count": 223,
     "metadata": {},
     "output_type": "execute_result"
    }
   ],
   "source": [
    "b is c"
   ]
  },
  {
   "cell_type": "code",
   "execution_count": 225,
   "id": "fe1fc569-943c-4f27-bb94-69923500001d",
   "metadata": {},
   "outputs": [
    {
     "data": {
      "text/plain": [
       "True"
      ]
     },
     "execution_count": 225,
     "metadata": {},
     "output_type": "execute_result"
    }
   ],
   "source": [
    "c is a "
   ]
  },
  {
   "cell_type": "code",
   "execution_count": 227,
   "id": "c9794ad2-b64a-464a-b32d-0b1421b616b8",
   "metadata": {},
   "outputs": [
    {
     "data": {
      "text/plain": [
       "True"
      ]
     },
     "execution_count": 227,
     "metadata": {},
     "output_type": "execute_result"
    }
   ],
   "source": [
    "a is c"
   ]
  },
  {
   "cell_type": "code",
   "execution_count": 229,
   "id": "c198b258-72a8-4db9-9cd1-758854b3b225",
   "metadata": {},
   "outputs": [
    {
     "data": {
      "text/plain": [
       "True"
      ]
     },
     "execution_count": 229,
     "metadata": {},
     "output_type": "execute_result"
    }
   ],
   "source": [
    "b is not a"
   ]
  },
  {
   "cell_type": "code",
   "execution_count": 231,
   "id": "da055b17-ef28-45eb-9fa7-0995f052da1d",
   "metadata": {},
   "outputs": [
    {
     "data": {
      "text/plain": [
       "False"
      ]
     },
     "execution_count": 231,
     "metadata": {},
     "output_type": "execute_result"
    }
   ],
   "source": [
    "b is not b"
   ]
  },
  {
   "cell_type": "code",
   "execution_count": 1,
   "id": "48a1bf5c-7993-46e3-8b89-f67eb3560ae7",
   "metadata": {},
   "outputs": [
    {
     "data": {
      "text/plain": [
       "(1, 4, 5, 6, 7, 3, 8, 9, 10)"
      ]
     },
     "execution_count": 1,
     "metadata": {},
     "output_type": "execute_result"
    }
   ],
   "source": [
    "# list\n",
    "list1 = [1,4,5,6,7,3,8,9,10]\n",
    "list1"
   ]
  },
  {
   "cell_type": "code",
   "execution_count": 5,
   "id": "f13a6755-fe4c-4519-93d1-72b27a6e080b",
   "metadata": {},
   "outputs": [
    {
     "data": {
      "text/plain": [
       "5"
      ]
     },
     "execution_count": 5,
     "metadata": {},
     "output_type": "execute_result"
    }
   ],
   "source": [
    "list1[2]"
   ]
  },
  {
   "cell_type": "code",
   "execution_count": 7,
   "id": "7ff1b090-a17e-46e1-a705-7e203aed85d9",
   "metadata": {},
   "outputs": [
    {
     "data": {
      "text/plain": [
       "(1, 4, 2, 5, 8, 6, 4)"
      ]
     },
     "execution_count": 7,
     "metadata": {},
     "output_type": "execute_result"
    }
   ],
   "source": [
    "tuple = (1,4,2,5,8,6,4)\n",
    "tuple"
   ]
  },
  {
   "cell_type": "code",
   "execution_count": 9,
   "id": "59d11c81-3790-4500-9d4c-f1d7cd6e60ec",
   "metadata": {},
   "outputs": [
    {
     "data": {
      "text/plain": [
       "6"
      ]
     },
     "execution_count": 9,
     "metadata": {},
     "output_type": "execute_result"
    }
   ],
   "source": [
    "tuple[5]"
   ]
  },
  {
   "cell_type": "code",
   "execution_count": 11,
   "id": "fc712322-74eb-4545-90b8-9b4a2246e3b1",
   "metadata": {},
   "outputs": [
    {
     "data": {
      "text/plain": [
       "{1, 3, 4, 6, 8, 15, 20, 30, 60}"
      ]
     },
     "execution_count": 11,
     "metadata": {},
     "output_type": "execute_result"
    }
   ],
   "source": [
    "s={1,4,8,30,20,60,15,3,1,6,8}\n",
    "s"
   ]
  },
  {
   "cell_type": "code",
   "execution_count": 21,
   "id": "5b467799-9549-4e4e-a12f-85cbbdf8354d",
   "metadata": {},
   "outputs": [
    {
     "data": {
      "text/plain": [
       "[1, 2, 3, 5, 4, True, False, 'sandy', 'geetha', (1, 2, 3, 6)]"
      ]
     },
     "execution_count": 21,
     "metadata": {},
     "output_type": "execute_result"
    }
   ],
   "source": [
    "list1=[1,2,3,5,4,True,False,'sandy','geetha',(1,2,3,6)]\n",
    "list1"
   ]
  },
  {
   "cell_type": "code",
   "execution_count": 23,
   "id": "92afb0ec-0dc5-408f-b689-e14e8e4eae59",
   "metadata": {},
   "outputs": [],
   "source": [
    "list1[3]=15"
   ]
  },
  {
   "cell_type": "code",
   "execution_count": 25,
   "id": "3d92f115-29b7-490e-af46-403b3d42de41",
   "metadata": {},
   "outputs": [
    {
     "data": {
      "text/plain": [
       "[1, 2, 3, 15, 4, True, False, 'sandy', 'geetha', (1, 2, 3, 6)]"
      ]
     },
     "execution_count": 25,
     "metadata": {},
     "output_type": "execute_result"
    }
   ],
   "source": [
    "list1"
   ]
  },
  {
   "cell_type": "code",
   "execution_count": 27,
   "id": "f5004d76-3898-4e2d-8584-2f11da1c5310",
   "metadata": {},
   "outputs": [
    {
     "data": {
      "text/plain": [
       "[[1, 2, 3, 4], [True, False], ['sandy', 'shashi']]"
      ]
     },
     "execution_count": 27,
     "metadata": {},
     "output_type": "execute_result"
    }
   ],
   "source": [
    "list1 =[[1,2,3,4],[True,False],['sandy','shashi']]\n",
    "list1"
   ]
  },
  {
   "cell_type": "code",
   "execution_count": 31,
   "id": "8746b17c-75b7-487f-a875-3600fb154dd3",
   "metadata": {},
   "outputs": [
    {
     "data": {
      "text/plain": [
       "['sandy', 'shashi']"
      ]
     },
     "execution_count": 31,
     "metadata": {},
     "output_type": "execute_result"
    }
   ],
   "source": [
    "list1[2]"
   ]
  },
  {
   "cell_type": "code",
   "execution_count": 33,
   "id": "f0231947-9b66-4742-984c-39cd3dd0bcc9",
   "metadata": {},
   "outputs": [
    {
     "data": {
      "text/plain": [
       "[1, 2, 4, 5, 6, 7, 8, 8, 9, 10]"
      ]
     },
     "execution_count": 33,
     "metadata": {},
     "output_type": "execute_result"
    }
   ],
   "source": [
    "l=[1,2,4,5,6,7,8,8,9,10]\n",
    "l"
   ]
  },
  {
   "cell_type": "code",
   "execution_count": 35,
   "id": "6e1a2dce-5ba7-494e-b89a-5a3bbf28d738",
   "metadata": {},
   "outputs": [
    {
     "data": {
      "text/plain": [
       "[4, 5, 6, 7]"
      ]
     },
     "execution_count": 35,
     "metadata": {},
     "output_type": "execute_result"
    }
   ],
   "source": [
    "l[2:6]"
   ]
  },
  {
   "cell_type": "code",
   "execution_count": 37,
   "id": "1242926e-2aa7-4784-9f5b-d9a0381645df",
   "metadata": {},
   "outputs": [
    {
     "data": {
      "text/plain": [
       "[1, 2, 4, 5, 6, 7]"
      ]
     },
     "execution_count": 37,
     "metadata": {},
     "output_type": "execute_result"
    }
   ],
   "source": [
    "l[:6]"
   ]
  },
  {
   "cell_type": "code",
   "execution_count": 39,
   "id": "2cf74e01-0138-4153-b2c8-756213933a0c",
   "metadata": {},
   "outputs": [
    {
     "data": {
      "text/plain": [
       "9"
      ]
     },
     "execution_count": 39,
     "metadata": {},
     "output_type": "execute_result"
    }
   ],
   "source": [
    "len(l)-1"
   ]
  },
  {
   "cell_type": "code",
   "execution_count": 43,
   "id": "352b42e2-6f5b-4aec-a682-4df02f5b4397",
   "metadata": {},
   "outputs": [
    {
     "data": {
      "text/plain": [
       "8"
      ]
     },
     "execution_count": 43,
     "metadata": {},
     "output_type": "execute_result"
    }
   ],
   "source": [
    "len(l)-2"
   ]
  },
  {
   "cell_type": "code",
   "execution_count": 45,
   "id": "82e03576-4388-43c2-82bf-918ff662feba",
   "metadata": {},
   "outputs": [
    {
     "data": {
      "text/plain": [
       "[10, 9, 8, 8, 7, 6, 5, 4, 2, 1]"
      ]
     },
     "execution_count": 45,
     "metadata": {},
     "output_type": "execute_result"
    }
   ],
   "source": [
    "l[::-1]"
   ]
  },
  {
   "cell_type": "code",
   "execution_count": 47,
   "id": "5fec5594-6d7e-47cc-84a9-077137ceaba2",
   "metadata": {},
   "outputs": [
    {
     "data": {
      "text/plain": [
       "list"
      ]
     },
     "execution_count": 47,
     "metadata": {},
     "output_type": "execute_result"
    }
   ],
   "source": [
    "type(l)"
   ]
  },
  {
   "cell_type": "code",
   "execution_count": 49,
   "id": "2a45680a-3f63-489a-a293-2d927972a7f8",
   "metadata": {},
   "outputs": [
    {
     "data": {
      "text/plain": [
       "[1, 2, 4, 5, 6, 7, 8, 8, 9, 10]"
      ]
     },
     "execution_count": 49,
     "metadata": {},
     "output_type": "execute_result"
    }
   ],
   "source": [
    "l"
   ]
  },
  {
   "cell_type": "code",
   "execution_count": 51,
   "id": "5c3e00bd-4012-4643-9797-70f18253fe46",
   "metadata": {},
   "outputs": [],
   "source": [
    "l.append(2)"
   ]
  },
  {
   "cell_type": "code",
   "execution_count": 53,
   "id": "1accec85-d5d0-450a-8a75-4d54cb49b584",
   "metadata": {},
   "outputs": [
    {
     "data": {
      "text/plain": [
       "[1, 2, 4, 5, 6, 7, 8, 8, 9, 10, 2]"
      ]
     },
     "execution_count": 53,
     "metadata": {},
     "output_type": "execute_result"
    }
   ],
   "source": [
    "l"
   ]
  },
  {
   "cell_type": "code",
   "execution_count": 55,
   "id": "f73f78d5-d8ad-4485-a4ee-136c1548ce17",
   "metadata": {},
   "outputs": [],
   "source": [
    "l.insert(3,10)"
   ]
  },
  {
   "cell_type": "code",
   "execution_count": 57,
   "id": "7b479d43-a6b0-4749-991c-3ad9841512dd",
   "metadata": {},
   "outputs": [
    {
     "data": {
      "text/plain": [
       "[1, 2, 4, 10, 5, 6, 7, 8, 8, 9, 10, 2]"
      ]
     },
     "execution_count": 57,
     "metadata": {},
     "output_type": "execute_result"
    }
   ],
   "source": [
    "l"
   ]
  },
  {
   "cell_type": "code",
   "execution_count": 59,
   "id": "d5029960-21e8-4e86-9feb-3c23a9094ddc",
   "metadata": {},
   "outputs": [],
   "source": [
    "l.remove(2)"
   ]
  },
  {
   "cell_type": "code",
   "execution_count": 61,
   "id": "ae28578f-2f21-4a4a-8f45-e597250fec78",
   "metadata": {},
   "outputs": [
    {
     "data": {
      "text/plain": [
       "[1, 4, 10, 5, 6, 7, 8, 8, 9, 10, 2]"
      ]
     },
     "execution_count": 61,
     "metadata": {},
     "output_type": "execute_result"
    }
   ],
   "source": [
    "l"
   ]
  },
  {
   "cell_type": "code",
   "execution_count": 63,
   "id": "6c1bc825-9185-48e7-a08f-b3bfd2f1e533",
   "metadata": {},
   "outputs": [],
   "source": [
    "l.remove(8)"
   ]
  },
  {
   "cell_type": "code",
   "execution_count": 65,
   "id": "f6857aba-20f3-491e-81bb-4b0e09764676",
   "metadata": {},
   "outputs": [
    {
     "data": {
      "text/plain": [
       "[1, 4, 10, 5, 6, 7, 8, 9, 10, 2]"
      ]
     },
     "execution_count": 65,
     "metadata": {},
     "output_type": "execute_result"
    }
   ],
   "source": [
    "l"
   ]
  },
  {
   "cell_type": "code",
   "execution_count": 69,
   "id": "c32a3f18-cfcb-4dbf-b05e-f235a8df08c0",
   "metadata": {},
   "outputs": [],
   "source": [
    "l.sort()"
   ]
  },
  {
   "cell_type": "code",
   "execution_count": 71,
   "id": "f3ea250d-efa9-46fd-acb3-61c88bdaec44",
   "metadata": {},
   "outputs": [
    {
     "data": {
      "text/plain": [
       "[1, 2, 4, 5, 6, 7, 8, 9, 10, 10]"
      ]
     },
     "execution_count": 71,
     "metadata": {},
     "output_type": "execute_result"
    }
   ],
   "source": [
    "l"
   ]
  },
  {
   "cell_type": "code",
   "execution_count": 73,
   "id": "063bc074-fd48-4bce-81ba-fa456d613da4",
   "metadata": {},
   "outputs": [],
   "source": [
    "l.sort(reverse=True)"
   ]
  },
  {
   "cell_type": "code",
   "execution_count": 75,
   "id": "d347fb04-c430-466f-a73e-0052d0be5513",
   "metadata": {},
   "outputs": [
    {
     "data": {
      "text/plain": [
       "[10, 10, 9, 8, 7, 6, 5, 4, 2, 1]"
      ]
     },
     "execution_count": 75,
     "metadata": {},
     "output_type": "execute_result"
    }
   ],
   "source": [
    "l"
   ]
  },
  {
   "cell_type": "code",
   "execution_count": 1,
   "id": "893800e2-f701-4cc1-b409-043acc8781de",
   "metadata": {},
   "outputs": [
    {
     "name": "stdin",
     "output_type": "stream",
     "text": [
      "Enter the first number 2\n",
      "Enter the seconds number 5\n",
      "Enter the count 2\n"
     ]
    },
    {
     "name": "stdout",
     "output_type": "stream",
     "text": [
      "2\n",
      "5\n",
      "7\n",
      "12\n"
     ]
    }
   ],
   "source": [
    "n1 = int(input(\"Enter the first number\"))\n",
    "n2 = int(input(\"Enter the seconds number\"))\n",
    "n_count = int(input(\"Enter the count\"))\n",
    "count = 0\n",
    "print(n1)\n",
    "print(n2)\n",
    "while count<n_count:\n",
    "    next=n1+n2\n",
    "    print(next)\n",
    "    n1=n2\n",
    "    n2=next\n",
    "    count=count+1"
   ]
  },
  {
   "cell_type": "code",
   "execution_count": 3,
   "id": "27b6b95d-a9c2-4706-ab18-1b6554fa8a3d",
   "metadata": {},
   "outputs": [
    {
     "name": "stdin",
     "output_type": "stream",
     "text": [
      "Enter the first number 2\n",
      "Enter the seconds number 5\n",
      "Enter the count 2\n"
     ]
    },
    {
     "name": "stdout",
     "output_type": "stream",
     "text": [
      "2\n",
      "5\n",
      "7\n",
      "12\n"
     ]
    }
   ],
   "source": [
    "n1 = int(input(\"Enter the first number\"))\n",
    "n2 = int(input(\"Enter the seconds number\"))\n",
    "n_count=int(input(\"Enter the count\"))\n",
    "count=0\n",
    "print(n1)\n",
    "print(n2)\n",
    "while count<n_count:\n",
    "    next=n1+n2\n",
    "    print(next)\n",
    "    n1=n2\n",
    "    n2=next\n",
    "    count=count+1"
   ]
  },
  {
   "cell_type": "code",
   "execution_count": 5,
   "id": "1da904c7-fbad-4791-898c-96bcff15c98a",
   "metadata": {},
   "outputs": [
    {
     "data": {
      "text/plain": [
       "{1, 2, 3, 4, 5, 6, 7, 9, 10}"
      ]
     },
     "execution_count": 5,
     "metadata": {},
     "output_type": "execute_result"
    }
   ],
   "source": [
    "set1 = {2,5,4,6,3,5,6}\n",
    "set2 = {2,5,3,1,7,9,10}\n",
    "set1.union(set2)"
   ]
  },
  {
   "cell_type": "code",
   "execution_count": 9,
   "id": "5c8b638c-ce69-4439-8f6b-06a6e2914536",
   "metadata": {},
   "outputs": [
    {
     "data": {
      "text/plain": [
       "{2, 3, 5}"
      ]
     },
     "execution_count": 9,
     "metadata": {},
     "output_type": "execute_result"
    }
   ],
   "source": [
    "set1.intersection(set2)"
   ]
  },
  {
   "cell_type": "code",
   "execution_count": 19,
   "id": "67c78fcd-552c-41b7-a32f-8b909b84ae85",
   "metadata": {},
   "outputs": [
    {
     "data": {
      "text/plain": [
       "{'name': 'sandy', 'age': 25, 'brgoup': 'b+'}"
      ]
     },
     "execution_count": 19,
     "metadata": {},
     "output_type": "execute_result"
    }
   ],
   "source": [
    "dict1 = {'name':'sandy','age':25,'brgoup':'b+'}\n",
    "dict1"
   ]
  },
  {
   "cell_type": "code",
   "execution_count": 25,
   "id": "06d31774-27ea-405d-b957-945e3ea02adc",
   "metadata": {},
   "outputs": [
    {
     "data": {
      "text/plain": [
       "dict_keys(['name', 'age', 'brgoup'])"
      ]
     },
     "execution_count": 25,
     "metadata": {},
     "output_type": "execute_result"
    }
   ],
   "source": [
    "dict1.keys()"
   ]
  },
  {
   "cell_type": "code",
   "execution_count": null,
   "id": "d4c65811-665c-4eeb-94b9-4730026249f2",
   "metadata": {},
   "outputs": [],
   "source": []
  },
  {
   "cell_type": "code",
   "execution_count": 28,
   "id": "db2c27da-98f5-4f5b-a3d6-65138929f4b4",
   "metadata": {},
   "outputs": [
    {
     "data": {
      "text/plain": [
       "dict_values(['sandy', 25, 'b+'])"
      ]
     },
     "execution_count": 28,
     "metadata": {},
     "output_type": "execute_result"
    }
   ],
   "source": [
    "dict1.values()"
   ]
  },
  {
   "cell_type": "code",
   "execution_count": 32,
   "id": "6cdc1bcc-76da-47b5-926e-a3fb7f4ee19c",
   "metadata": {},
   "outputs": [
    {
     "data": {
      "text/plain": [
       "dict_items([('name', 'sandy'), ('age', 25), ('brgoup', 'b+')])"
      ]
     },
     "execution_count": 32,
     "metadata": {},
     "output_type": "execute_result"
    }
   ],
   "source": [
    "dict1.items()"
   ]
  },
  {
   "cell_type": "code",
   "execution_count": 3,
   "id": "bed02de5-f26f-40a3-a33d-cd46ab6f9b0b",
   "metadata": {},
   "outputs": [
    {
     "name": "stdout",
     "output_type": "stream",
     "text": [
      "25 is greater than 10\n"
     ]
    }
   ],
   "source": [
    "# if else\n",
    "x,y=10,25\n",
    "if x>y:\n",
    "    print(f'{x} is greater than {y}')\n",
    "else:\n",
    "    print(f'{y} is greater than {x}')"
   ]
  },
  {
   "cell_type": "code",
   "execution_count": 15,
   "id": "c2366209-002a-484f-af7b-5c0474d7ad7d",
   "metadata": {},
   "outputs": [
    {
     "name": "stdout",
     "output_type": "stream",
     "text": [
      "15 is greater than 10\n"
     ]
    }
   ],
   "source": [
    "x,y,z = 10,2,15\n",
    "if x<y:\n",
    "    print(f'{x} is greater than {y}')\n",
    "elif x<z:\n",
    "    print(f'{z} is greater than {x}')\n",
    "else:\n",
    "    print(f'{x} is greater than {y} and {z}')"
   ]
  },
  {
   "cell_type": "code",
   "execution_count": 19,
   "id": "2436c569-0043-4da7-a3e9-50b77611c13f",
   "metadata": {},
   "outputs": [
    {
     "name": "stdin",
     "output_type": "stream",
     "text": [
      "Enter a number 5\n"
     ]
    },
    {
     "name": "stdout",
     "output_type": "stream",
     "text": [
      "5 is odd\n"
     ]
    }
   ],
   "source": [
    "x = int(input(\"Enter a number\"))\n",
    "if x>0:\n",
    "    if x%2==0:\n",
    "        print(f'{x} is even')\n",
    "    else:\n",
    "        print(f'{x} is odd')\n",
    "else:\n",
    "    print(f'{x} is positive number')"
   ]
  },
  {
   "cell_type": "code",
   "execution_count": 21,
   "id": "b2a1e320-4b71-40f2-a434-84f72af129f1",
   "metadata": {},
   "outputs": [
    {
     "name": "stdin",
     "output_type": "stream",
     "text": [
      "Enter a number 8\n"
     ]
    },
    {
     "name": "stdout",
     "output_type": "stream",
     "text": [
      "8 is even\n"
     ]
    }
   ],
   "source": [
    "x = int(input(\"Enter a number\"))\n",
    "if x>0:\n",
    "    if x%2==0:\n",
    "        print(f'{x} is even')\n",
    "    else:\n",
    "        print(f'{x} is odd')\n",
    "else:\n",
    "    print(f'{x} is positive number')"
   ]
  },
  {
   "cell_type": "code",
   "execution_count": 23,
   "id": "fbaac15a-50ed-44f7-99ba-b2b8224bf492",
   "metadata": {},
   "outputs": [
    {
     "name": "stdin",
     "output_type": "stream",
     "text": [
      "Enter a number 0\n"
     ]
    },
    {
     "name": "stdout",
     "output_type": "stream",
     "text": [
      "0 is positive number\n"
     ]
    }
   ],
   "source": [
    "x = int(input(\"Enter a number\"))\n",
    "if x>0:\n",
    "    if x%2==0:\n",
    "        print(f'{x} is even')\n",
    "    else:\n",
    "        print(f'{x} is odd')\n",
    "else:\n",
    "    print(f'{x} is positive number')"
   ]
  },
  {
   "cell_type": "code",
   "execution_count": 25,
   "id": "e8f5d4cb-cd0e-4523-8b46-5f9b653f707e",
   "metadata": {},
   "outputs": [
    {
     "name": "stdout",
     "output_type": "stream",
     "text": [
      "1 is l\n",
      "4 is l\n",
      "5 is l\n",
      "6 is l\n",
      "7 is l\n",
      "7 is l\n",
      "38 is l\n",
      "12 is l\n",
      "3 is l\n",
      "54 is l\n",
      "65 is l\n",
      "57 is l\n"
     ]
    }
   ],
   "source": [
    "l = [1,4,5,6,7,7,38,12,3,54,65,57]\n",
    "for i in l:\n",
    "    print(f'{i} is l')"
   ]
  },
  {
   "cell_type": "code",
   "execution_count": 27,
   "id": "b42723c2-b720-452b-a1cf-61a60f59f060",
   "metadata": {},
   "outputs": [
    {
     "name": "stdout",
     "output_type": "stream",
     "text": [
      "1\n",
      "4\n",
      "5\n",
      "6\n",
      "7\n",
      "7\n",
      "38\n",
      "12\n",
      "3\n",
      "54\n",
      "65\n",
      "57\n"
     ]
    }
   ],
   "source": [
    "l = [1,4,5,6,7,7,38,12,3,54,65,57]\n",
    "for i in l:\n",
    "    print(f'{i}')"
   ]
  },
  {
   "cell_type": "code",
   "execution_count": 37,
   "id": "a2a2c520-551f-4911-bb97-3480d18b80b6",
   "metadata": {},
   "outputs": [
    {
     "name": "stdout",
     "output_type": "stream",
     "text": [
      "loop 1:1\n",
      "loop 2:4\n",
      "loop 3:5\n",
      "loop 4:6\n",
      "loop 5:7\n",
      "loop 6:7\n",
      "loop 7:38\n",
      "loop 8:12\n",
      "loop 9:3\n",
      "loop 10:54\n",
      "loop 11:65\n",
      "loop 12:57\n"
     ]
    }
   ],
   "source": [
    "for i in range(len(l)):\n",
    "    print(f'loop {i+1}:{l[i]}')"
   ]
  },
  {
   "cell_type": "code",
   "execution_count": 45,
   "id": "c1770803-0b23-4a0a-bccb-ece12f4c586d",
   "metadata": {},
   "outputs": [
    {
     "name": "stdout",
     "output_type": "stream",
     "text": [
      "8\n"
     ]
    }
   ],
   "source": [
    "count = 0\n",
    "for i in l:\n",
    "    if i>5:\n",
    "        count+=1\n",
    "print(count)"
   ]
  },
  {
   "cell_type": "code",
   "execution_count": 49,
   "id": "5a7b8e6c-47dd-4f93-a58e-68c4c07501f0",
   "metadata": {},
   "outputs": [
    {
     "name": "stdout",
     "output_type": "stream",
     "text": [
      "0\n"
     ]
    }
   ],
   "source": [
    "count=0\n",
    "if i in l:\n",
    "    if x>6:\n",
    "        count+=0\n",
    "print(count)"
   ]
  },
  {
   "cell_type": "code",
   "execution_count": 53,
   "id": "03bb8174-651f-441b-8776-29037b1dd38d",
   "metadata": {},
   "outputs": [
    {
     "name": "stdout",
     "output_type": "stream",
     "text": [
      "1\n",
      "2\n",
      "3\n",
      "4\n",
      "5\n",
      "4\n",
      "3\n",
      "8\n",
      "10\n"
     ]
    }
   ],
   "source": [
    "list=[[1,2,3,4],[5,4,3,8,10]]\n",
    "for x in list:\n",
    "    for y in x:\n",
    "        print(y)"
   ]
  },
  {
   "cell_type": "code",
   "execution_count": 1,
   "id": "543536e0-8cf3-4e02-90fc-a86d449e0c55",
   "metadata": {},
   "outputs": [
    {
     "name": "stdout",
     "output_type": "stream",
     "text": [
      "3\n",
      "2\n",
      "1\n"
     ]
    }
   ],
   "source": [
    "#while\n",
    "x=3\n",
    "while x>0:\n",
    "    print(x)\n",
    "    x-=1"
   ]
  },
  {
   "cell_type": "code",
   "execution_count": 3,
   "id": "2d02b27e-a856-42f0-ae79-45b20944c594",
   "metadata": {},
   "outputs": [
    {
     "name": "stdout",
     "output_type": "stream",
     "text": [
      "5\n",
      "3\n",
      "1\n"
     ]
    }
   ],
   "source": [
    "#while\n",
    "x=5\n",
    "while x>0:\n",
    "    print(x)\n",
    "    x-=2"
   ]
  },
  {
   "cell_type": "code",
   "execution_count": 5,
   "id": "bd0def61-e9f1-4f0b-b596-38c7097f9099",
   "metadata": {},
   "outputs": [
    {
     "name": "stdout",
     "output_type": "stream",
     "text": [
      "5\n",
      "4\n",
      "3\n",
      "2\n",
      "1\n"
     ]
    }
   ],
   "source": [
    "x=5\n",
    "while x>0:\n",
    "    print(x)\n",
    "    x-=1"
   ]
  },
  {
   "cell_type": "code",
   "execution_count": 7,
   "id": "b731a214-4cfe-4ca4-9c80-dca63d60fdea",
   "metadata": {},
   "outputs": [
    {
     "name": "stdout",
     "output_type": "stream",
     "text": [
      "15\n"
     ]
    }
   ],
   "source": [
    "sum=0\n",
    "while sum<15:\n",
    "    sum=sum+1\n",
    "print(sum)"
   ]
  },
  {
   "cell_type": "code",
   "execution_count": 1,
   "id": "7326b8f6-9e9b-4f05-a3b6-2ead7ddaed81",
   "metadata": {},
   "outputs": [
    {
     "name": "stdout",
     "output_type": "stream",
     "text": [
      "25\n"
     ]
    }
   ],
   "source": [
    "sum=19\n",
    "while sum<25:\n",
    "    sum=sum+1\n",
    "print(sum)"
   ]
  },
  {
   "cell_type": "code",
   "execution_count": 3,
   "id": "4e769b67-3e7d-4038-b93d-69b1e2c18452",
   "metadata": {},
   "outputs": [],
   "source": [
    "list1=[3,5, 12, 3, 2, 1]"
   ]
  },
  {
   "cell_type": "code",
   "execution_count": 7,
   "id": "849d14f5-d454-4402-97aa-7c89d44b2713",
   "metadata": {},
   "outputs": [
    {
     "name": "stdout",
     "output_type": "stream",
     "text": [
      "3\n",
      "5\n"
     ]
    }
   ],
   "source": [
    "for x in list1:\n",
    "    if x%2==0:\n",
    "        break\n",
    "    else:\n",
    "        print(x)"
   ]
  },
  {
   "cell_type": "code",
   "execution_count": 5,
   "id": "b591d9a1-cb72-4d12-8355-286bfbfa7051",
   "metadata": {},
   "outputs": [
    {
     "name": "stdout",
     "output_type": "stream",
     "text": [
      "3\n",
      "5\n",
      "1\n"
     ]
    }
   ],
   "source": [
    "for x in list1:\n",
    "    if x%2==0:\n",
    "        break\n",
    "    else:\n",
    "        print(x)\n",
    "\n",
    "count=0\n",
    "for x in list1:\n",
    "    if x>5:\n",
    "        count+=1\n",
    "print(count)"
   ]
  },
  {
   "cell_type": "code",
   "execution_count": 11,
   "id": "32a20901-a81c-4d57-88f5-29290fcff031",
   "metadata": {},
   "outputs": [
    {
     "name": "stdout",
     "output_type": "stream",
     "text": [
      "hello\n"
     ]
    }
   ],
   "source": [
    "def function_c():\n",
    "    print(\"hello\")\n",
    "function_c()"
   ]
  },
  {
   "cell_type": "code",
   "execution_count": 15,
   "id": "947aa8c8-0ebc-4e57-9cb0-869db51d7e7a",
   "metadata": {},
   "outputs": [
    {
     "data": {
      "text/plain": [
       "30"
      ]
     },
     "execution_count": 15,
     "metadata": {},
     "output_type": "execute_result"
    }
   ],
   "source": [
    "def sum():\n",
    "    x=10\n",
    "    y=20\n",
    "    return x+y\n",
    "sum()"
   ]
  },
  {
   "cell_type": "code",
   "execution_count": 19,
   "id": "47074dd8-e9ac-4e45-b932-673d918eb0d4",
   "metadata": {},
   "outputs": [
    {
     "name": "stdout",
     "output_type": "stream",
     "text": [
      "30\n"
     ]
    }
   ],
   "source": [
    "z=sum()\n",
    "print(z)"
   ]
  },
  {
   "cell_type": "code",
   "execution_count": 25,
   "id": "43c0c11e-8f53-49c8-8c5d-98394db5610c",
   "metadata": {},
   "outputs": [
    {
     "data": {
      "text/plain": [
       "666"
      ]
     },
     "execution_count": 25,
     "metadata": {},
     "output_type": "execute_result"
    }
   ],
   "source": [
    "def sum(n1,n2):\n",
    "    total = n1+n2\n",
    "    return total\n",
    "sum(100,566)"
   ]
  },
  {
   "cell_type": "code",
   "execution_count": 29,
   "id": "20a33d96-0405-4c38-ac27-c71ef49ec1ad",
   "metadata": {},
   "outputs": [
    {
     "name": "stdout",
     "output_type": "stream",
     "text": [
      "5\n",
      "7\n"
     ]
    }
   ],
   "source": [
    "print(sum(2,3))\n",
    "print(sum(3,4))"
   ]
  },
  {
   "cell_type": "code",
   "execution_count": 39,
   "id": "b05dfdd1-6a66-4a27-b98c-094ccf21e300",
   "metadata": {},
   "outputs": [
    {
     "name": "stdout",
     "output_type": "stream",
     "text": [
      "1\n"
     ]
    }
   ],
   "source": [
    "def allodd_beforeeven(list1):\n",
    "    for x in list1:\n",
    "        if x%2==0:\n",
    "            break\n",
    "        else:\n",
    "            print( x)\n",
    "def count_greater5(list1):\n",
    "    count = 0\n",
    "    for x in list1:\n",
    "        if x>5:\n",
    "            count+=1\n",
    "print(count)"
   ]
  },
  {
   "cell_type": "code",
   "execution_count": 43,
   "id": "a504bfd0-4bc7-4607-961e-b8a3ad969166",
   "metadata": {},
   "outputs": [
    {
     "name": "stdout",
     "output_type": "stream",
     "text": [
      "1\n"
     ]
    }
   ],
   "source": [
    "x=[1,2,4,5,56,4]\n",
    "allodd_beforeeven(x)\n",
    "count_greater5(x)"
   ]
  },
  {
   "cell_type": "code",
   "execution_count": 7,
   "id": "b3dd8cf4-236f-40d6-b26c-6e5885f4e6fd",
   "metadata": {},
   "outputs": [
    {
     "name": "stdin",
     "output_type": "stream",
     "text": [
      "enter a number 5\n"
     ]
    },
    {
     "name": "stdout",
     "output_type": "stream",
     "text": [
      "5 is armstrong number\n"
     ]
    }
   ],
   "source": [
    "n = int(input(\"enter a number\"))\n",
    "s=str(n)\n",
    "power=len(s)\n",
    "sum=0\n",
    "for i in s:\n",
    "    sum+=int(i)**power\n",
    "if n==sum:\n",
    "    print(f'{n} is armstrong number')\n",
    "else:\n",
    "    print(f'{n} is not a armstrong number')"
   ]
  },
  {
   "cell_type": "code",
   "execution_count": 15,
   "id": "f3606b32-fdb8-4afe-bc00-a986441f8777",
   "metadata": {},
   "outputs": [
    {
     "name": "stdin",
     "output_type": "stream",
     "text": [
      "Enter a number 2\n"
     ]
    },
    {
     "name": "stdout",
     "output_type": "stream",
     "text": [
      "2is a prime\n"
     ]
    }
   ],
   "source": [
    "n = int(input(\"Enter a number\"))\n",
    "for i in range(2,n):\n",
    "    if n%i==0:\n",
    "        print(f'{n} is not a prime')\n",
    "        break\n",
    "else:\n",
    "    print(f\"{n}is a prime\")"
   ]
  },
  {
   "cell_type": "code",
   "execution_count": 5,
   "id": "f7addb06-eb16-4e9a-9cdf-e62164f57e5d",
   "metadata": {},
   "outputs": [
    {
     "data": {
      "text/plain": [
       "20"
      ]
     },
     "execution_count": 5,
     "metadata": {},
     "output_type": "execute_result"
    }
   ],
   "source": [
    "list=[1,5,4,6,7,8.10,20,20]\n",
    "max(list)"
   ]
  },
  {
   "cell_type": "code",
   "execution_count": 7,
   "id": "3d1d40a5-b996-44a6-9be7-c70de018d355",
   "metadata": {},
   "outputs": [
    {
     "data": {
      "text/plain": [
       "1"
      ]
     },
     "execution_count": 7,
     "metadata": {},
     "output_type": "execute_result"
    }
   ],
   "source": [
    "min(list)"
   ]
  },
  {
   "cell_type": "code",
   "execution_count": 9,
   "id": "cdf0ca92-7838-4e6c-a278-1eb4fa2d7fcb",
   "metadata": {},
   "outputs": [
    {
     "name": "stdin",
     "output_type": "stream",
     "text": [
      "enter a number 8\n"
     ]
    },
    {
     "name": "stdout",
     "output_type": "stream",
     "text": [
      "8 is lower\n"
     ]
    }
   ],
   "source": [
    "n = int(input(\"enter a number\"))\n",
    "list=[1,5,4,6,7,8.10,20,20]\n",
    "if(n>max(list)):\n",
    "    print(f'{n} is greater')\n",
    "else:\n",
    "    print(f'{n} is lower')"
   ]
  },
  {
   "cell_type": "code",
   "execution_count": 11,
   "id": "1c56a243-4e7b-4df9-9566-062fc2f52607",
   "metadata": {},
   "outputs": [],
   "source": [
    "list = []\n",
    "for i in range(1,51):\n",
    "    list.append(2*i)"
   ]
  },
  {
   "cell_type": "code",
   "execution_count": 27,
   "id": "b0482efb-b222-494f-9be0-248dd1ef3c6d",
   "metadata": {},
   "outputs": [
    {
     "data": {
      "text/plain": [
       "[2,\n",
       " 4,\n",
       " 6,\n",
       " 8,\n",
       " 10,\n",
       " 12,\n",
       " 14,\n",
       " 16,\n",
       " 18,\n",
       " 20,\n",
       " 22,\n",
       " 24,\n",
       " 26,\n",
       " 28,\n",
       " 30,\n",
       " 32,\n",
       " 34,\n",
       " 36,\n",
       " 38,\n",
       " 40,\n",
       " 42,\n",
       " 44,\n",
       " 46,\n",
       " 48,\n",
       " 50,\n",
       " 52,\n",
       " 54,\n",
       " 56,\n",
       " 58,\n",
       " 60,\n",
       " 62,\n",
       " 64,\n",
       " 66,\n",
       " 68,\n",
       " 70,\n",
       " 72,\n",
       " 74,\n",
       " 76,\n",
       " 78,\n",
       " 80,\n",
       " 82,\n",
       " 84,\n",
       " 86,\n",
       " 88,\n",
       " 90,\n",
       " 92,\n",
       " 94,\n",
       " 96,\n",
       " 98,\n",
       " 100]"
      ]
     },
     "execution_count": 27,
     "metadata": {},
     "output_type": "execute_result"
    }
   ],
   "source": [
    "list"
   ]
  },
  {
   "cell_type": "code",
   "execution_count": 35,
   "id": "a50c59a6-654e-4e5d-95d7-3a3b6cea7ca0",
   "metadata": {},
   "outputs": [
    {
     "data": {
      "text/plain": [
       "[4,\n",
       " 6,\n",
       " 8,\n",
       " 10,\n",
       " 12,\n",
       " 14,\n",
       " 16,\n",
       " 18,\n",
       " 20,\n",
       " 22,\n",
       " 24,\n",
       " 26,\n",
       " 28,\n",
       " 30,\n",
       " 32,\n",
       " 34,\n",
       " 36,\n",
       " 38,\n",
       " 40,\n",
       " 42,\n",
       " 44,\n",
       " 46,\n",
       " 48,\n",
       " 50,\n",
       " 52,\n",
       " 54,\n",
       " 56,\n",
       " 58,\n",
       " 60,\n",
       " 62,\n",
       " 64,\n",
       " 66,\n",
       " 68,\n",
       " 70,\n",
       " 72,\n",
       " 74,\n",
       " 76,\n",
       " 78,\n",
       " 80,\n",
       " 82,\n",
       " 84,\n",
       " 86,\n",
       " 88,\n",
       " 90,\n",
       " 92,\n",
       " 94,\n",
       " 96,\n",
       " 98]"
      ]
     },
     "execution_count": 35,
     "metadata": {},
     "output_type": "execute_result"
    }
   ],
   "source": [
    "list1 =[2*i for i in range(2,50)]\n",
    "list1"
   ]
  },
  {
   "cell_type": "code",
   "execution_count": 37,
   "id": "2220a620-2558-44e8-a2e2-30670989d83a",
   "metadata": {},
   "outputs": [
    {
     "data": {
      "text/plain": [
       "50"
      ]
     },
     "execution_count": 37,
     "metadata": {},
     "output_type": "execute_result"
    }
   ],
   "source": [
    "# Count the number of elements in the list.\n",
    "len(list)"
   ]
  },
  {
   "cell_type": "code",
   "execution_count": 39,
   "id": "321ce8af-0182-42b5-9fd7-f3086426276a",
   "metadata": {},
   "outputs": [
    {
     "data": {
      "text/plain": [
       "[100,\n",
       " 98,\n",
       " 96,\n",
       " 94,\n",
       " 92,\n",
       " 90,\n",
       " 88,\n",
       " 86,\n",
       " 84,\n",
       " 82,\n",
       " 80,\n",
       " 78,\n",
       " 76,\n",
       " 74,\n",
       " 72,\n",
       " 70,\n",
       " 68,\n",
       " 66,\n",
       " 64,\n",
       " 62,\n",
       " 60,\n",
       " 58,\n",
       " 56,\n",
       " 54,\n",
       " 52,\n",
       " 50,\n",
       " 48,\n",
       " 46,\n",
       " 44,\n",
       " 42,\n",
       " 40,\n",
       " 38,\n",
       " 36,\n",
       " 34,\n",
       " 32,\n",
       " 30,\n",
       " 28,\n",
       " 26,\n",
       " 24,\n",
       " 22,\n",
       " 20,\n",
       " 18,\n",
       " 16,\n",
       " 14,\n",
       " 12,\n",
       " 10,\n",
       " 8,\n",
       " 6,\n",
       " 4,\n",
       " 2]"
      ]
     },
     "execution_count": 39,
     "metadata": {},
     "output_type": "execute_result"
    }
   ],
   "source": [
    "#Reverse the sequence of the list.\n",
    "list[::-1]"
   ]
  },
  {
   "cell_type": "code",
   "execution_count": 41,
   "id": "ee4c8034-fb92-4d7f-a180-3d9dd1c04b33",
   "metadata": {},
   "outputs": [],
   "source": [
    "#Sort the list in ascending and descending order\n",
    "list.sort()\n"
   ]
  },
  {
   "cell_type": "code",
   "execution_count": 47,
   "id": "3eba285b-af21-4825-93e6-292350ec2722",
   "metadata": {},
   "outputs": [
    {
     "data": {
      "text/plain": [
       "21"
      ]
     },
     "execution_count": 47,
     "metadata": {},
     "output_type": "execute_result"
    }
   ],
   "source": [
    "Get the index value for the element 44, and update the element with the number\n",
    "100.\n",
    "n=list.index(44)\n",
    "n"
   ]
  },
  {
   "cell_type": "code",
   "execution_count": 17,
   "id": "b2be4c6a-3dd1-44a7-805f-609ce0f10633",
   "metadata": {},
   "outputs": [],
   "source": [
    "# Return a copy of the list, with the resulting list containing the square of each element.\n",
    "s_list=[]\n",
    "for x in list:\n",
    "    s_list.append(x**2)"
   ]
  },
  {
   "cell_type": "code",
   "execution_count": 19,
   "id": "c8a1c092-f701-473a-9b3c-9f6a16b1289f",
   "metadata": {},
   "outputs": [
    {
     "data": {
      "text/plain": [
       "[4,\n",
       " 16,\n",
       " 36,\n",
       " 64,\n",
       " 100,\n",
       " 144,\n",
       " 196,\n",
       " 256,\n",
       " 324,\n",
       " 400,\n",
       " 484,\n",
       " 576,\n",
       " 676,\n",
       " 784,\n",
       " 900,\n",
       " 1024,\n",
       " 1156,\n",
       " 1296,\n",
       " 1444,\n",
       " 1600,\n",
       " 1764,\n",
       " 1936,\n",
       " 2116,\n",
       " 2304,\n",
       " 2500,\n",
       " 2704,\n",
       " 2916,\n",
       " 3136,\n",
       " 3364,\n",
       " 3600,\n",
       " 3844,\n",
       " 4096,\n",
       " 4356,\n",
       " 4624,\n",
       " 4900,\n",
       " 5184,\n",
       " 5476,\n",
       " 5776,\n",
       " 6084,\n",
       " 6400,\n",
       " 6724,\n",
       " 7056,\n",
       " 7396,\n",
       " 7744,\n",
       " 8100,\n",
       " 8464,\n",
       " 8836,\n",
       " 9216,\n",
       " 9604,\n",
       " 10000]"
      ]
     },
     "execution_count": 19,
     "metadata": {},
     "output_type": "execute_result"
    }
   ],
   "source": [
    "s_list"
   ]
  },
  {
   "cell_type": "code",
   "execution_count": 61,
   "id": "f99b8028-9460-4c5f-9792-48f10a1c5a3f",
   "metadata": {},
   "outputs": [
    {
     "data": {
      "text/plain": [
       "[4,\n",
       " 16,\n",
       " 36,\n",
       " 64,\n",
       " 100,\n",
       " 144,\n",
       " 196,\n",
       " 256,\n",
       " 324,\n",
       " 400,\n",
       " 484,\n",
       " 576,\n",
       " 676,\n",
       " 784,\n",
       " 900,\n",
       " 1024,\n",
       " 1156,\n",
       " 1296,\n",
       " 1444,\n",
       " 1600,\n",
       " 1764,\n",
       " 1936,\n",
       " 2116,\n",
       " 2304,\n",
       " 2500,\n",
       " 2704,\n",
       " 2916,\n",
       " 3136,\n",
       " 3364,\n",
       " 3600,\n",
       " 3844,\n",
       " 4096,\n",
       " 4356,\n",
       " 4624,\n",
       " 4900,\n",
       " 5184,\n",
       " 5476,\n",
       " 5776,\n",
       " 6084,\n",
       " 6400,\n",
       " 6724,\n",
       " 7056,\n",
       " 7396,\n",
       " 7744,\n",
       " 8100,\n",
       " 8464,\n",
       " 8836,\n",
       " 9216,\n",
       " 9604,\n",
       " 10000]"
      ]
     },
     "execution_count": 61,
     "metadata": {},
     "output_type": "execute_result"
    }
   ],
   "source": [
    "s_list=[x**2 for x in list ]\n",
    "s_list"
   ]
  },
  {
   "cell_type": "code",
   "execution_count": 3,
   "id": "a98120a8-cb79-4b81-b61a-0ce9e7342bc1",
   "metadata": {},
   "outputs": [
    {
     "data": {
      "text/plain": [
       "array([1, 2, 3])"
      ]
     },
     "execution_count": 3,
     "metadata": {},
     "output_type": "execute_result"
    }
   ],
   "source": [
    "import numpy as np\n",
    "a = np.array([1,2,3])\n",
    "a"
   ]
  },
  {
   "cell_type": "code",
   "execution_count": 5,
   "id": "0b9a3122-f462-47b2-aaab-09322e1bf536",
   "metadata": {},
   "outputs": [
    {
     "data": {
      "text/plain": [
       "array([[ 1,  2,  3],\n",
       "       [12, 34, 15]])"
      ]
     },
     "execution_count": 5,
     "metadata": {},
     "output_type": "execute_result"
    }
   ],
   "source": [
    "b=np.array([[1,2,3],[12,34,15]])\n",
    "b"
   ]
  },
  {
   "cell_type": "code",
   "execution_count": 7,
   "id": "bfb779d2-5e9b-4bdf-9cf8-42568440cdbe",
   "metadata": {},
   "outputs": [
    {
     "data": {
      "text/plain": [
       "array([[0., 0., 0., 0.],\n",
       "       [0., 0., 0., 0.],\n",
       "       [0., 0., 0., 0.]])"
      ]
     },
     "execution_count": 7,
     "metadata": {},
     "output_type": "execute_result"
    }
   ],
   "source": [
    "np.zeros((3,4))"
   ]
  },
  {
   "cell_type": "code",
   "execution_count": 9,
   "id": "10d6045c-b555-4c46-9438-f322ef90b19b",
   "metadata": {},
   "outputs": [
    {
     "data": {
      "text/plain": [
       "array([[0., 0.]])"
      ]
     },
     "execution_count": 9,
     "metadata": {},
     "output_type": "execute_result"
    }
   ],
   "source": [
    "np.zeros((1,2))"
   ]
  },
  {
   "cell_type": "code",
   "execution_count": 11,
   "id": "81ce2648-0501-45d6-bc77-24ebd1aaab2c",
   "metadata": {},
   "outputs": [
    {
     "data": {
      "text/plain": [
       "array([[0., 0., 0., 0., 0.],\n",
       "       [0., 0., 0., 0., 0.],\n",
       "       [0., 0., 0., 0., 0.],\n",
       "       [0., 0., 0., 0., 0.],\n",
       "       [0., 0., 0., 0., 0.]])"
      ]
     },
     "execution_count": 11,
     "metadata": {},
     "output_type": "execute_result"
    }
   ],
   "source": [
    "np.zeros((5,5))"
   ]
  },
  {
   "cell_type": "code",
   "execution_count": 13,
   "id": "49cd51b1-31e5-4fd3-8f8b-9bf974060917",
   "metadata": {},
   "outputs": [
    {
     "data": {
      "text/plain": [
       "array([1, 3, 5, 7, 9])"
      ]
     },
     "execution_count": 13,
     "metadata": {},
     "output_type": "execute_result"
    }
   ],
   "source": [
    "np.arange(1,10,2)"
   ]
  },
  {
   "cell_type": "code",
   "execution_count": 19,
   "id": "bf38afac-753b-4a9c-8548-0f93b3625b76",
   "metadata": {},
   "outputs": [
    {
     "data": {
      "text/plain": [
       "array([10, 12, 14, 16, 18])"
      ]
     },
     "execution_count": 19,
     "metadata": {},
     "output_type": "execute_result"
    }
   ],
   "source": [
    "np.arange(10,20,2)"
   ]
  },
  {
   "cell_type": "code",
   "execution_count": 15,
   "id": "47f86fb0-a19e-4dff-90d4-6429c46c9ec3",
   "metadata": {},
   "outputs": [
    {
     "data": {
      "text/plain": [
       "array([ 5.        ,  5.55555556,  6.11111111,  6.66666667,  7.22222222,\n",
       "        7.77777778,  8.33333333,  8.88888889,  9.44444444, 10.        ])"
      ]
     },
     "execution_count": 15,
     "metadata": {},
     "output_type": "execute_result"
    }
   ],
   "source": [
    "np.linspace(5,10,10)"
   ]
  },
  {
   "cell_type": "code",
   "execution_count": 21,
   "id": "6dc36123-e1d6-4380-a8f2-0dab1c980b8c",
   "metadata": {},
   "outputs": [
    {
     "data": {
      "text/plain": [
       "array([ 0.,  2.,  4.,  6.,  8., 10.])"
      ]
     },
     "execution_count": 21,
     "metadata": {},
     "output_type": "execute_result"
    }
   ],
   "source": [
    "np.linspace(0,10,6)"
   ]
  },
  {
   "cell_type": "code",
   "execution_count": 23,
   "id": "8f5150ca-2c52-49c9-a61c-883f60c823b0",
   "metadata": {},
   "outputs": [
    {
     "data": {
      "text/plain": [
       "array([[6, 6, 6],\n",
       "       [6, 6, 6]])"
      ]
     },
     "execution_count": 23,
     "metadata": {},
     "output_type": "execute_result"
    }
   ],
   "source": [
    "np.full((2,3),6)"
   ]
  },
  {
   "cell_type": "code",
   "execution_count": 27,
   "id": "5d52f929-b249-40b6-b43f-8a23d5e85191",
   "metadata": {},
   "outputs": [
    {
     "data": {
      "text/plain": [
       "array([[5, 5, 5],\n",
       "       [5, 5, 5],\n",
       "       [5, 5, 5]])"
      ]
     },
     "execution_count": 27,
     "metadata": {},
     "output_type": "execute_result"
    }
   ],
   "source": [
    "np.full((3,3),5)"
   ]
  },
  {
   "cell_type": "code",
   "execution_count": 29,
   "id": "0aa5cbdd-4cf2-41df-b70b-20b23401db07",
   "metadata": {},
   "outputs": [
    {
     "data": {
      "text/plain": [
       "array([[0.8755631 , 0.04598577, 0.16821306],\n",
       "       [0.93275866, 0.58993455, 0.05028155]])"
      ]
     },
     "execution_count": 29,
     "metadata": {},
     "output_type": "execute_result"
    }
   ],
   "source": [
    "np.random.random((2,3))"
   ]
  },
  {
   "cell_type": "code",
   "execution_count": 31,
   "id": "1176af35-2776-4fda-86f3-df5c909569a8",
   "metadata": {},
   "outputs": [
    {
     "data": {
      "text/plain": [
       "array([[1.91746063e-01, 5.18279808e-01, 1.64536354e-01],\n",
       "       [5.43277906e-01, 8.51374601e-01, 3.33715303e-04],\n",
       "       [8.62882117e-01, 9.10842811e-01, 7.94320228e-01]])"
      ]
     },
     "execution_count": 31,
     "metadata": {},
     "output_type": "execute_result"
    }
   ],
   "source": [
    "np.random.random((3,3))"
   ]
  },
  {
   "cell_type": "markdown",
   "id": "16078105-7268-472b-8c32-41d5392ccb14",
   "metadata": {},
   "source": [
    "a=np.array([[2,3,4],[3,4,5]])\n",
    "a.shape=(3,2)\n",
    "print(a)"
   ]
  },
  {
   "cell_type": "code",
   "execution_count": 63,
   "id": "0954c9b6-c0f0-4a27-b800-2708195e6b54",
   "metadata": {},
   "outputs": [
    {
     "name": "stdout",
     "output_type": "stream",
     "text": [
      "[[1]\n",
      " [2]\n",
      " [3]\n",
      " [4]\n",
      " [5]\n",
      " [6]\n",
      " [1]\n",
      " [2]\n",
      " [3]]\n"
     ]
    }
   ],
   "source": [
    "a=np.array([[1,2,3],[4,5,6],[1,2,3]])\n",
    "a.shape=(9,1)\n",
    "print(a)"
   ]
  },
  {
   "cell_type": "code",
   "execution_count": 65,
   "id": "bed8d2e4-c64a-43ad-9663-286f31ebb0ab",
   "metadata": {},
   "outputs": [
    {
     "name": "stdout",
     "output_type": "stream",
     "text": [
      "[[2 3]\n",
      " [4 3]\n",
      " [4 5]]\n"
     ]
    }
   ],
   "source": [
    "a=np.array([[2,3,4],[3,4,5]])\n",
    "a.shape=(3,2)\n",
    "print(a)"
   ]
  },
  {
   "cell_type": "code",
   "execution_count": 67,
   "id": "332fbafd-cc31-4870-be88-d26726568f19",
   "metadata": {},
   "outputs": [
    {
     "data": {
      "text/plain": [
       "array([ 0,  1,  2,  3,  4,  5,  6,  7,  8,  9, 10, 11, 12, 13, 14, 15, 16,\n",
       "       17, 18, 19, 20, 21, 22, 23])"
      ]
     },
     "execution_count": 67,
     "metadata": {},
     "output_type": "execute_result"
    }
   ],
   "source": [
    "a=np.arange(24)\n",
    "a"
   ]
  },
  {
   "cell_type": "code",
   "execution_count": 71,
   "id": "f3373568-cf38-433f-ae0d-3dee98eaa879",
   "metadata": {},
   "outputs": [
    {
     "name": "stdout",
     "output_type": "stream",
     "text": [
      "1\n"
     ]
    }
   ],
   "source": [
    "print(a.ndim)"
   ]
  },
  {
   "cell_type": "code",
   "execution_count": 73,
   "id": "6a94907e-032c-4074-b927-22fb249fc766",
   "metadata": {},
   "outputs": [
    {
     "name": "stdout",
     "output_type": "stream",
     "text": [
      "3\n"
     ]
    }
   ],
   "source": [
    "b=a.reshape(2,4,3)\n",
    "print(b.ndim)"
   ]
  },
  {
   "cell_type": "code",
   "execution_count": 75,
   "id": "b2240c6b-04cc-4ab8-9bb9-29a37750e39a",
   "metadata": {},
   "outputs": [
    {
     "name": "stdout",
     "output_type": "stream",
     "text": [
      "24\n"
     ]
    }
   ],
   "source": [
    "print(a.size)"
   ]
  },
  {
   "cell_type": "code",
   "execution_count": 77,
   "id": "7061119d-0910-463c-823e-df92fdbd54f5",
   "metadata": {},
   "outputs": [
    {
     "name": "stdout",
     "output_type": "stream",
     "text": [
      "24\n"
     ]
    }
   ],
   "source": [
    "print(b.size)"
   ]
  },
  {
   "cell_type": "code",
   "execution_count": 79,
   "id": "35cb8058-2777-4610-9ce5-6eb4b900fa14",
   "metadata": {},
   "outputs": [
    {
     "name": "stdout",
     "output_type": "stream",
     "text": [
      "float64\n"
     ]
    },
    {
     "data": {
      "text/plain": [
       "array([ 0.,  1.,  2.,  3.,  4.,  5.,  6.,  7.,  8.,  9., 10., 11., 12.,\n",
       "       13., 14., 15., 16., 17., 18., 19., 20., 21., 22., 23.])"
      ]
     },
     "execution_count": 79,
     "metadata": {},
     "output_type": "execute_result"
    }
   ],
   "source": [
    "a=np.arange(24,dtype=float)\n",
    "print(a.dtype)\n",
    "a"
   ]
  },
  {
   "cell_type": "code",
   "execution_count": 81,
   "id": "d982d44f-faed-4770-af80-6079899bf40a",
   "metadata": {},
   "outputs": [
    {
     "data": {
      "text/plain": [
       "30"
      ]
     },
     "execution_count": 81,
     "metadata": {},
     "output_type": "execute_result"
    }
   ],
   "source": [
    "np.sum([10,20])"
   ]
  },
  {
   "cell_type": "code",
   "execution_count": 83,
   "id": "4859d072-b597-4c34-b916-cac8716c7747",
   "metadata": {},
   "outputs": [
    {
     "data": {
      "text/plain": [
       "30"
      ]
     },
     "execution_count": 83,
     "metadata": {},
     "output_type": "execute_result"
    }
   ],
   "source": [
    "a,b=10,20\n",
    "np.sum([a,b])"
   ]
  },
  {
   "cell_type": "code",
   "execution_count": 87,
   "id": "5fa8a7db-6587-4e09-9081-a8272bff67f3",
   "metadata": {},
   "outputs": [
    {
     "data": {
      "text/plain": [
       "-10"
      ]
     },
     "execution_count": 87,
     "metadata": {},
     "output_type": "execute_result"
    }
   ],
   "source": [
    "np.subtract(a,b)"
   ]
  },
  {
   "cell_type": "code",
   "execution_count": 89,
   "id": "a50c3b70-a7ae-4af5-9cc9-dce35fd94dd6",
   "metadata": {},
   "outputs": [
    {
     "data": {
      "text/plain": [
       "0.5"
      ]
     },
     "execution_count": 89,
     "metadata": {},
     "output_type": "execute_result"
    }
   ],
   "source": [
    "np.divide(a,b)"
   ]
  },
  {
   "cell_type": "code",
   "execution_count": 91,
   "id": "ee6904fc-f277-454f-add2-16bfa5684a05",
   "metadata": {},
   "outputs": [
    {
     "data": {
      "text/plain": [
       "200"
      ]
     },
     "execution_count": 91,
     "metadata": {},
     "output_type": "execute_result"
    }
   ],
   "source": [
    "np.multiply(a,b)"
   ]
  },
  {
   "cell_type": "code",
   "execution_count": 93,
   "id": "6eccb9b0-9e31-4723-b8f8-5ad8a67ce348",
   "metadata": {},
   "outputs": [
    {
     "name": "stdout",
     "output_type": "stream",
     "text": [
      "Exponent: 22026.465794806718\n",
      "Square root: 3.1622776601683795\n",
      "Sin: -0.5440211108893698\n",
      "cos: -0.8390715290764524\n",
      "log: 2.302585092994046\n"
     ]
    }
   ],
   "source": [
    "print(\"Exponent:\", np.exp(a))\n",
    "print(\"Square root:\", np.sqrt(a))\n",
    "print(\"Sin:\", np.sin(a))\n",
    "print(\"cos:\", np.cos(a))\n",
    "print(\"log:\", np.log(a))"
   ]
  },
  {
   "cell_type": "code",
   "execution_count": 99,
   "id": "75bf67cf-6e33-4081-b3f8-a349c999d434",
   "metadata": {},
   "outputs": [
    {
     "data": {
      "text/plain": [
       "array([False, False, False])"
      ]
     },
     "execution_count": 99,
     "metadata": {},
     "output_type": "execute_result"
    }
   ],
   "source": [
    "a=[1,2,3]\n",
    "b=[2,3,4]\n",
    "c=[1,2,3]\n",
    "np.equal(a,b)"
   ]
  },
  {
   "cell_type": "code",
   "execution_count": 101,
   "id": "f9328385-779b-4002-b467-cf927298405c",
   "metadata": {},
   "outputs": [
    {
     "data": {
      "text/plain": [
       "array([ True,  True,  True])"
      ]
     },
     "execution_count": 101,
     "metadata": {},
     "output_type": "execute_result"
    }
   ],
   "source": [
    "np.equal(a,c)"
   ]
  },
  {
   "cell_type": "code",
   "execution_count": 105,
   "id": "3d5465d2-4fd2-4c42-ba1a-85f48f3a7857",
   "metadata": {},
   "outputs": [
    {
     "data": {
      "text/plain": [
       "array([False, False, False])"
      ]
     },
     "execution_count": 105,
     "metadata": {},
     "output_type": "execute_result"
    }
   ],
   "source": [
    "np.equal(b,c)"
   ]
  },
  {
   "cell_type": "code",
   "execution_count": 107,
   "id": "d64914fc-fa48-476a-8dcf-8810640b74b2",
   "metadata": {},
   "outputs": [
    {
     "data": {
      "text/plain": [
       "False"
      ]
     },
     "execution_count": 107,
     "metadata": {},
     "output_type": "execute_result"
    }
   ],
   "source": [
    "np.array_equal(a,b)"
   ]
  },
  {
   "cell_type": "code",
   "execution_count": 109,
   "id": "4dd208fa-b70d-4e6f-ac57-293142e49ae6",
   "metadata": {},
   "outputs": [
    {
     "data": {
      "text/plain": [
       "False"
      ]
     },
     "execution_count": 109,
     "metadata": {},
     "output_type": "execute_result"
    }
   ],
   "source": [
    "np.array_equal(b,c)"
   ]
  },
  {
   "cell_type": "code",
   "execution_count": 111,
   "id": "a2b68263-d0ad-4f23-92a6-098a75d6b135",
   "metadata": {},
   "outputs": [
    {
     "data": {
      "text/plain": [
       "True"
      ]
     },
     "execution_count": 111,
     "metadata": {},
     "output_type": "execute_result"
    }
   ],
   "source": [
    "np.array_equal(a,c)"
   ]
  },
  {
   "cell_type": "code",
   "execution_count": null,
   "id": "740dff76-29dd-4c52-a7bd-560e8d60dd87",
   "metadata": {},
   "outputs": [],
   "source": []
  }
 ],
 "metadata": {
  "kernelspec": {
   "display_name": "Python 3 (ipykernel)",
   "language": "python",
   "name": "python3"
  },
  "language_info": {
   "codemirror_mode": {
    "name": "ipython",
    "version": 3
   },
   "file_extension": ".py",
   "mimetype": "text/x-python",
   "name": "python",
   "nbconvert_exporter": "python",
   "pygments_lexer": "ipython3",
   "version": "3.12.4"
  }
 },
 "nbformat": 4,
 "nbformat_minor": 5
}
