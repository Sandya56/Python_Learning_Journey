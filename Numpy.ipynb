{
 "cells": [
  {
   "cell_type": "code",
   "execution_count": 3,
   "id": "36467208-8e78-442a-b41e-37e7a2701814",
   "metadata": {},
   "outputs": [],
   "source": [
    "#IMPORTING THE NECESSARY LIBRARY\n",
    "import numpy as np"
   ]
  },
  {
   "cell_type": "code",
   "execution_count": 27,
   "id": "19bed39a-176a-4747-81f8-cf1e3d0247bc",
   "metadata": {},
   "outputs": [
    {
     "name": "stdout",
     "output_type": "stream",
     "text": [
      "[1 2 3 4 5]\n",
      "int32\n",
      "(5,)\n",
      "1\n"
     ]
    }
   ],
   "source": [
    "# 1D array\n",
    "\n",
    "val = np.array([1,2,3,4,5])\n",
    "print(val)\n",
    "print(val.dtype) #returns the datatype of the array\n",
    "print(val.shape) #returns shape of the array\n",
    "print(val.ndim) #returns dimension of the array"
   ]
  },
  {
   "cell_type": "code",
   "execution_count": 29,
   "id": "db0e6463-22aa-42d0-8cf3-7e361bb6459e",
   "metadata": {},
   "outputs": [
    {
     "name": "stdout",
     "output_type": "stream",
     "text": [
      "[[ 1  2  3  4  5]\n",
      " [10 20 30 40 50]]\n",
      "int32\n",
      "(2, 5)\n",
      "2\n"
     ]
    }
   ],
   "source": [
    "# 2D array\n",
    "\n",
    "val1 = np.array([[1,2,3,4,5],[10,20,30,40,50]])\n",
    "print(val1)\n",
    "print(val1.dtype) #returns the datatype of the array\n",
    "print(val1.shape) #returns shape of the array\n",
    "print(val1.ndim) #returns dimension of the array"
   ]
  },
  {
   "cell_type": "code",
   "execution_count": 39,
   "id": "0ff9d3d0-f169-4609-a944-a4bb816b4de4",
   "metadata": {},
   "outputs": [
    {
     "name": "stdout",
     "output_type": "stream",
     "text": [
      "[[[ 1.  2.  3.  4.  5.]\n",
      "  [10. 20. 30. 40. 50.]]]\n",
      "float64\n",
      "(1, 2, 5)\n",
      "3\n"
     ]
    }
   ],
   "source": [
    "# 3D array\n",
    "\n",
    "val3 = np.array([[[1,2,3,4,5],[10,20,30,40,50]]], dtype=float) #changed the dtype to float\n",
    "print(val3)\n",
    "print(val3.dtype) #returns the datatype of the array\n",
    "print(val3.shape) #returns shape of the array\n",
    "print(val3.ndim) #returns dimension of the array"
   ]
  },
  {
   "cell_type": "code",
   "execution_count": 43,
   "id": "2bddee64-8224-416e-a19b-7ed181a16f68",
   "metadata": {},
   "outputs": [
    {
     "name": "stdout",
     "output_type": "stream",
     "text": [
      "[[[[ 1.  2.  3.  4.  5.]\n",
      "   [10. 20. 30. 40. 50.]]]]\n",
      "float64\n",
      "(1, 1, 2, 5)\n",
      "4\n"
     ]
    }
   ],
   "source": [
    "# 4D array\n",
    "\n",
    "val4 = np.array([[[[1,2,3,4,5],[10,20,30,40,50]]]], dtype=float) #changed the dtype to float\n",
    "print(val4)\n",
    "print(val4.dtype) #returns the datatype of the array\n",
    "print(val4.shape) #returns shape of the array\n",
    "print(val4.ndim) #returns dimension of the array"
   ]
  },
  {
   "cell_type": "code",
   "execution_count": 63,
   "id": "337e5a56-fbd1-40c1-88fd-2c49ef6ad739",
   "metadata": {},
   "outputs": [
    {
     "name": "stdout",
     "output_type": "stream",
     "text": [
      "[10. 20. 30. 40.]\n",
      "[10 20 30 40]\n"
     ]
    }
   ],
   "source": [
    "#Created a numpy array with numpy.array module and with a data type integer and float.\n",
    "\n",
    "n = np.array([10,20,30,40],dtype = float)\n",
    "print(n)\n",
    "n1 = np.array([10,20,30,40],dtype = int)\n",
    "print(n1)"
   ]
  },
  {
   "cell_type": "code",
   "execution_count": 75,
   "id": "85af2d76-6ef0-4a03-a198-34dd0996b96d",
   "metadata": {},
   "outputs": [
    {
     "name": "stdout",
     "output_type": "stream",
     "text": [
      "[[1 0]\n",
      " [0 1]]\n"
     ]
    }
   ],
   "source": [
    "#Created a 2x2, 3x3, and 4x4 identity matrix using numpy.\n",
    "\n",
    "arr = np.identity(2, dtype = int) #2x2\n",
    "print(arr)"
   ]
  },
  {
   "cell_type": "code",
   "execution_count": 77,
   "id": "37190d2f-3104-4e28-8a2c-2910295aa92b",
   "metadata": {},
   "outputs": [
    {
     "name": "stdout",
     "output_type": "stream",
     "text": [
      "[[1 0 0]\n",
      " [0 1 0]\n",
      " [0 0 1]]\n"
     ]
    }
   ],
   "source": [
    "arr1 = np.identity(3, dtype = int) #3x3\n",
    "print(arr1)"
   ]
  },
  {
   "cell_type": "code",
   "execution_count": 79,
   "id": "f48f697f-2a54-453f-b517-8a4fd5cb14b3",
   "metadata": {},
   "outputs": [
    {
     "name": "stdout",
     "output_type": "stream",
     "text": [
      "[[1 0 0 0]\n",
      " [0 1 0 0]\n",
      " [0 0 1 0]\n",
      " [0 0 0 1]]\n"
     ]
    }
   ],
   "source": [
    "arr2 = np.identity(4, dtype = int) #4x4\n",
    "print(arr2)"
   ]
  },
  {
   "cell_type": "code",
   "execution_count": 89,
   "id": "6641e2e8-e8c5-4b42-ac5a-88ada229f050",
   "metadata": {},
   "outputs": [
    {
     "data": {
      "text/plain": [
       "array([[0., 0., 0., 0., 0.],\n",
       "       [0., 0., 0., 0., 0.]])"
      ]
     },
     "execution_count": 89,
     "metadata": {},
     "output_type": "execute_result"
    }
   ],
   "source": [
    "#Created a numpy array with shape 2x5 that has all the elements as zero.\n",
    "\n",
    "np.zeros((2,5))"
   ]
  },
  {
   "cell_type": "code",
   "execution_count": 91,
   "id": "aa20f4a2-c478-49de-96c5-454f5622f034",
   "metadata": {},
   "outputs": [
    {
     "data": {
      "text/plain": [
       "array([[0., 0., 0., 0., 0.],\n",
       "       [0., 0., 0., 0., 0.]])"
      ]
     },
     "execution_count": 91,
     "metadata": {},
     "output_type": "execute_result"
    }
   ],
   "source": [
    "np.zeros(10).reshape(2,5)"
   ]
  },
  {
   "cell_type": "code",
   "execution_count": 93,
   "id": "33b1dce0-21d4-45ad-b301-59f47a71ab90",
   "metadata": {},
   "outputs": [
    {
     "data": {
      "text/plain": [
       "array([[5, 5, 5, 5, 5],\n",
       "       [5, 5, 5, 5, 5],\n",
       "       [5, 5, 5, 5, 5]])"
      ]
     },
     "execution_count": 93,
     "metadata": {},
     "output_type": "execute_result"
    }
   ],
   "source": [
    "#Created a numpy array that has the shape 3x5 and all the elements are 5.\n",
    "\n",
    "np.full([3,5],5)"
   ]
  },
  {
   "cell_type": "code",
   "execution_count": 95,
   "id": "ae5122e6-4b89-493d-bb0a-141913791bba",
   "metadata": {},
   "outputs": [
    {
     "data": {
      "text/plain": [
       "array([90, 90, 82, 70, 97, 42, 10, 19, 56, 50,  7, 39, 27, 43, 91, 53, 60,\n",
       "       22, 74, 54, 45, 51, 26,  9, 66])"
      ]
     },
     "execution_count": 95,
     "metadata": {},
     "output_type": "execute_result"
    }
   ],
   "source": [
    "#Created a numpy array with random integers in the range 0-100, and the sample size should be 25.\n",
    "\n",
    "np.random.randint(0,100,25)"
   ]
  },
  {
   "cell_type": "code",
   "execution_count": 97,
   "id": "a557373c-95d1-460e-a76c-1438d76ebce1",
   "metadata": {},
   "outputs": [
    {
     "data": {
      "text/plain": [
       "array([[1, 1, 1],\n",
       "       [1, 1, 1],\n",
       "       [1, 1, 1]])"
      ]
     },
     "execution_count": 97,
     "metadata": {},
     "output_type": "execute_result"
    }
   ],
   "source": [
    "#Created a numpy array with a shape 3x3 that has all elements as 1\n",
    "\n",
    "np.full((3,3),1)"
   ]
  },
  {
   "cell_type": "code",
   "execution_count": 99,
   "id": "b42d8fae-4507-4c6a-b6b5-146939c3add9",
   "metadata": {},
   "outputs": [
    {
     "data": {
      "text/plain": [
       "array([['letter', 'letter', 'letter'],\n",
       "       ['letter', 'letter', 'letter'],\n",
       "       ['letter', 'letter', 'letter']], dtype='<U6')"
      ]
     },
     "execution_count": 99,
     "metadata": {},
     "output_type": "execute_result"
    }
   ],
   "source": [
    "#Created a numpy array with a shape 3x3 that has all elements as 'letter'\n",
    "\n",
    "np.full((3,3),'letter')"
   ]
  },
  {
   "cell_type": "code",
   "execution_count": 105,
   "id": "639276cc-c7aa-4383-bab1-eae009828a61",
   "metadata": {},
   "outputs": [
    {
     "data": {
      "text/plain": [
       "30"
      ]
     },
     "execution_count": 105,
     "metadata": {},
     "output_type": "execute_result"
    }
   ],
   "source": [
    "#Addition using numpy\n",
    "\n",
    "np.sum([1,2,4])"
   ]
  },
  {
   "cell_type": "code",
   "execution_count": 129,
   "id": "1bb232cf-0b78-4eba-9039-7aaf3652eb4c",
   "metadata": {},
   "outputs": [
    {
     "name": "stdout",
     "output_type": "stream",
     "text": [
      "Sum : 30\n",
      "Subract : -10\n",
      "Multiply :  200\n",
      "Divid :  0.5\n"
     ]
    }
   ],
   "source": [
    "a = 10\n",
    "b = 20\n",
    "print('Sum :', np.sum([a,b]))\n",
    "print('Subract :', np.subtract(a,b))\n",
    "print('Multiply : ', np.multiply(a,b))\n",
    "print('Divid : ', np.divide(a,b))"
   ]
  },
  {
   "cell_type": "code",
   "execution_count": 135,
   "id": "1d44adb9-6c69-4456-a4cc-5eeb3c7fe9e3",
   "metadata": {},
   "outputs": [
    {
     "name": "stdout",
     "output_type": "stream",
     "text": [
      "Exponent: 22026.465794806718\n",
      "Square root: 3.1622776601683795\n",
      "Sin: -0.5440211108893698\n",
      "Cos: -0.8390715290764524\n",
      "Log: 2.302585092994046\n"
     ]
    }
   ],
   "source": [
    "#Mathematic Function\n",
    "\n",
    "a = 10\n",
    "print('Exponent:' , np.exp(a))\n",
    "print('Square root:', np.sqrt(a))\n",
    "print('Sin:', np.sin(a))\n",
    "print('Cos:', np.cos(a))\n",
    "print('Log:', np.log(a))"
   ]
  },
  {
   "cell_type": "code",
   "execution_count": 9,
   "id": "fcad6ca8-6c80-4866-8b9a-05d985db2160",
   "metadata": {},
   "outputs": [
    {
     "name": "stdout",
     "output_type": "stream",
     "text": [
      "Comparing a and b:  [False False False False False]\n",
      "Comparing a and c:  [ True  True  True  True  True]\n",
      "Comparing c and b:  [False False False False False]\n"
     ]
    }
   ],
   "source": [
    "#Array Comparision\n",
    "\n",
    "a = np.array([1,2,3,4,5])\n",
    "b = np.array([3,5,6,7,7])\n",
    "c = np.array([1,2,3,4,5])\n",
    "print('Comparing a and b: ',np.equal(a,b))\n",
    "print('Comparing a and c: ',np.equal(a,c))\n",
    "print('Comparing c and b: ',np.equal(a,b))"
   ]
  },
  {
   "cell_type": "code",
   "execution_count": 11,
   "id": "77d303b3-6ed1-4a60-b9d9-cd9ad5b92f0f",
   "metadata": {},
   "outputs": [
    {
     "name": "stdout",
     "output_type": "stream",
     "text": [
      "Sum : 7\n",
      "Minimum Value : 1\n",
      "Maximum Value : 4\n",
      "Mean Value : 2.3333333333333335\n",
      "Median Value : 2.0\n",
      "Variance : 1.5555555555555554\n",
      "Std Dev : 1.247219128924647\n"
     ]
    }
   ],
   "source": [
    "# Aggregate Function\n",
    "\n",
    "arr1 = np.array([1,2,4])\n",
    "\n",
    "print(f\"Sum : {np.sum(arr1)}\")\n",
    "print(f\"Minimum Value : {np.min(arr1)}\")\n",
    "print(f\"Maximum Value : {np.max(arr1)}\")\n",
    "print(f\"Mean Value : {np.mean(arr1)}\")\n",
    "print(f\"Median Value : {np.median(arr1)}\")\n",
    "print(f\"Variance : {np.var(arr1)}\")\n",
    "print(f\"Std Dev : {np.std(arr1)}\")"
   ]
  },
  {
   "cell_type": "code",
   "execution_count": 21,
   "id": "83d236a8-6176-4310-94fb-388a1d8edb01",
   "metadata": {},
   "outputs": [
    {
     "data": {
      "text/plain": [
       "array(['Nayana', 'Santosh'], dtype='<U7')"
      ]
     },
     "execution_count": 21,
     "metadata": {},
     "output_type": "execute_result"
    }
   ],
   "source": [
    "#Slicing\n",
    "\n",
    "x = np.array(['Sandy','Prabhu','Nayana','Santosh','Lalitha','Rudra','Toby'])\n",
    "x[2:4]"
   ]
  },
  {
   "cell_type": "code",
   "execution_count": 23,
   "id": "c4e5b39a-0da3-4a0c-9a30-2ad3c4ee3a5b",
   "metadata": {},
   "outputs": [
    {
     "data": {
      "text/plain": [
       "array(['Sandy', 'Prabhu', 'Nayana'], dtype='<U7')"
      ]
     },
     "execution_count": 23,
     "metadata": {},
     "output_type": "execute_result"
    }
   ],
   "source": [
    "x[0:3]"
   ]
  },
  {
   "cell_type": "code",
   "execution_count": 25,
   "id": "1041697d-fbcc-45fb-8043-f696cda5058f",
   "metadata": {},
   "outputs": [
    {
     "data": {
      "text/plain": [
       "array([1, 2, 3, 4, 5, 6, 2, 3, 4, 5, 7, 8])"
      ]
     },
     "execution_count": 25,
     "metadata": {},
     "output_type": "execute_result"
    }
   ],
   "source": [
    "#Concatenate\n",
    "\n",
    "x = ([1,2,3,4,5,6])\n",
    "y = ([2,3,4,5,7,8])\n",
    "\n",
    "np.concatenate([x,y])"
   ]
  },
  {
   "cell_type": "code",
   "execution_count": 29,
   "id": "a6b7404d-fb89-4989-a565-a305a0abfbfa",
   "metadata": {},
   "outputs": [
    {
     "name": "stdout",
     "output_type": "stream",
     "text": [
      "Vertical Stack: [[ 1  2]\n",
      " [ 4  5]\n",
      " [ 2  2]\n",
      " [10 10]]\n",
      "Horizantal Stack: [[ 1  2  2  2]\n",
      " [ 4  5 10 10]]\n"
     ]
    }
   ],
   "source": [
    "# vertical stack\n",
    "\n",
    "arr1 = np.array([[1,2],[4,5]])\n",
    "arr2 = np.array([[2,2],[10,10]])\n",
    "print('Vertical Stack:', np.vstack([arr1,arr2]))\n",
    "print('Horizantal Stack:', np.hstack([arr1,arr2]))  #Horizontal stack"
   ]
  },
  {
   "cell_type": "code",
   "execution_count": null,
   "id": "4005ea85-180a-4387-8d7c-b12df989a0fb",
   "metadata": {},
   "outputs": [],
   "source": []
  }
 ],
 "metadata": {
  "kernelspec": {
   "display_name": "Python 3 (ipykernel)",
   "language": "python",
   "name": "python3"
  },
  "language_info": {
   "codemirror_mode": {
    "name": "ipython",
    "version": 3
   },
   "file_extension": ".py",
   "mimetype": "text/x-python",
   "name": "python",
   "nbconvert_exporter": "python",
   "pygments_lexer": "ipython3",
   "version": "3.12.4"
  }
 },
 "nbformat": 4,
 "nbformat_minor": 5
}
